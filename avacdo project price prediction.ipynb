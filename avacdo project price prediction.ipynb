{
 "cells": [
  {
   "cell_type": "code",
   "execution_count": 1,
   "id": "acd3ed42",
   "metadata": {},
   "outputs": [],
   "source": [
    "#Problem Definition."
   ]
  },
  {
   "cell_type": "code",
   "execution_count": 2,
   "id": "1c630b89",
   "metadata": {},
   "outputs": [],
   "source": [
    "#\"The Avocado dataset we are classifying Organic & Conventional Type and prediting the Average price using Regression model from year 2015, 2016, 2017 and 2018 data.\"#\"The Avocado dataset we are classifying Organic & Conventional Type and prediting the Average price using Regression model from year 2015, 2016, 2017 and 2018 data.\""
   ]
  },
  {
   "cell_type": "code",
   "execution_count": 3,
   "id": "cd9afddb",
   "metadata": {},
   "outputs": [],
   "source": [
    "#Importing important librarires"
   ]
  },
  {
   "cell_type": "code",
   "execution_count": 4,
   "id": "d502bb20",
   "metadata": {},
   "outputs": [],
   "source": [
    "import numpy as np\n",
    "import pandas as pd\n",
    "import seaborn as sns\n",
    "from sklearn import metrics\n",
    "from sklearn.preprocessing import StandardScaler\n",
    "from sklearn.preprocessing import LabelEncoder\n",
    "from subprocess import check_output\n",
    "from sklearn.metrics import accuracy_score\n",
    "from sklearn.metrics import confusion_matrix\n",
    "from sklearn.model_selection import train_test_split\n",
    "from sklearn.linear_model import LogisticRegression\n",
    "from sklearn.linear_model import LinearRegression\n",
    "from sklearn.ensemble import RandomForestClassifier\n",
    "from sklearn.ensemble import RandomForestRegressor\n",
    "from sklearn.model_selection import train_test_split\n",
    "from sklearn.linear_model import LogisticRegression\n",
    "from sklearn.metrics import accuracy_score\n",
    "import matplotlib.pyplot as plt\n",
    "import warnings\n",
    "warnings.filterwarnings(\"ignore\")"
   ]
  },
  {
   "cell_type": "code",
   "execution_count": 7,
   "id": "525b22c5",
   "metadata": {},
   "outputs": [],
   "source": [
    "df1 = pd.read_csv('https://raw.githubusercontent.com/dsrscientist/Data-Science-ML-Capstone-Projects/master/avocado.csv')\n"
   ]
  },
  {
   "cell_type": "code",
   "execution_count": 8,
   "id": "08dc390b",
   "metadata": {},
   "outputs": [],
   "source": [
    "df2 = pd.read_csv('Avacado file.csv')"
   ]
  },
  {
   "cell_type": "code",
   "execution_count": 9,
   "id": "3962b36f",
   "metadata": {},
   "outputs": [],
   "source": [
    "df=pd.concat([df1, df2], ignore_index=True)"
   ]
  },
  {
   "cell_type": "code",
   "execution_count": 10,
   "id": "6d834786",
   "metadata": {},
   "outputs": [],
   "source": [
    "# Data Inspection"
   ]
  },
  {
   "cell_type": "code",
   "execution_count": 11,
   "id": "f841cbaf",
   "metadata": {},
   "outputs": [
    {
     "data": {
      "text/plain": [
       "(34717, 14)"
      ]
     },
     "execution_count": 11,
     "metadata": {},
     "output_type": "execute_result"
    }
   ],
   "source": [
    "df.shape"
   ]
  },
  {
   "cell_type": "code",
   "execution_count": 12,
   "id": "1f95a613",
   "metadata": {},
   "outputs": [
    {
     "data": {
      "text/html": [
       "<div>\n",
       "<style scoped>\n",
       "    .dataframe tbody tr th:only-of-type {\n",
       "        vertical-align: middle;\n",
       "    }\n",
       "\n",
       "    .dataframe tbody tr th {\n",
       "        vertical-align: top;\n",
       "    }\n",
       "\n",
       "    .dataframe thead th {\n",
       "        text-align: right;\n",
       "    }\n",
       "</style>\n",
       "<table border=\"1\" class=\"dataframe\">\n",
       "  <thead>\n",
       "    <tr style=\"text-align: right;\">\n",
       "      <th></th>\n",
       "      <th>Unnamed: 0</th>\n",
       "      <th>Date</th>\n",
       "      <th>AveragePrice</th>\n",
       "      <th>Total Volume</th>\n",
       "      <th>4046</th>\n",
       "      <th>4225</th>\n",
       "      <th>4770</th>\n",
       "      <th>Total Bags</th>\n",
       "      <th>Small Bags</th>\n",
       "      <th>Large Bags</th>\n",
       "      <th>XLarge Bags</th>\n",
       "      <th>type</th>\n",
       "      <th>year</th>\n",
       "      <th>region</th>\n",
       "    </tr>\n",
       "  </thead>\n",
       "  <tbody>\n",
       "    <tr>\n",
       "      <th>0</th>\n",
       "      <td>0.0</td>\n",
       "      <td>27-12-2015</td>\n",
       "      <td>1.33</td>\n",
       "      <td>64236.62</td>\n",
       "      <td>1036.74</td>\n",
       "      <td>54454.85</td>\n",
       "      <td>48.16</td>\n",
       "      <td>8696.87</td>\n",
       "      <td>8603.62</td>\n",
       "      <td>93.25</td>\n",
       "      <td>0.0</td>\n",
       "      <td>conventional</td>\n",
       "      <td>2015.0</td>\n",
       "      <td>Albany</td>\n",
       "    </tr>\n",
       "    <tr>\n",
       "      <th>1</th>\n",
       "      <td>1.0</td>\n",
       "      <td>20-12-2015</td>\n",
       "      <td>1.35</td>\n",
       "      <td>54876.98</td>\n",
       "      <td>674.28</td>\n",
       "      <td>44638.81</td>\n",
       "      <td>58.33</td>\n",
       "      <td>9505.56</td>\n",
       "      <td>9408.07</td>\n",
       "      <td>97.49</td>\n",
       "      <td>0.0</td>\n",
       "      <td>conventional</td>\n",
       "      <td>2015.0</td>\n",
       "      <td>Albany</td>\n",
       "    </tr>\n",
       "    <tr>\n",
       "      <th>2</th>\n",
       "      <td>2.0</td>\n",
       "      <td>13-12-2015</td>\n",
       "      <td>0.93</td>\n",
       "      <td>118220.22</td>\n",
       "      <td>794.70</td>\n",
       "      <td>109149.67</td>\n",
       "      <td>130.50</td>\n",
       "      <td>8145.35</td>\n",
       "      <td>8042.21</td>\n",
       "      <td>103.14</td>\n",
       "      <td>0.0</td>\n",
       "      <td>conventional</td>\n",
       "      <td>2015.0</td>\n",
       "      <td>Albany</td>\n",
       "    </tr>\n",
       "    <tr>\n",
       "      <th>3</th>\n",
       "      <td>3.0</td>\n",
       "      <td>06-12-2015</td>\n",
       "      <td>1.08</td>\n",
       "      <td>78992.15</td>\n",
       "      <td>1132.00</td>\n",
       "      <td>71976.41</td>\n",
       "      <td>72.58</td>\n",
       "      <td>5811.16</td>\n",
       "      <td>5677.40</td>\n",
       "      <td>133.76</td>\n",
       "      <td>0.0</td>\n",
       "      <td>conventional</td>\n",
       "      <td>2015.0</td>\n",
       "      <td>Albany</td>\n",
       "    </tr>\n",
       "    <tr>\n",
       "      <th>4</th>\n",
       "      <td>4.0</td>\n",
       "      <td>29-11-2015</td>\n",
       "      <td>1.28</td>\n",
       "      <td>51039.60</td>\n",
       "      <td>941.48</td>\n",
       "      <td>43838.39</td>\n",
       "      <td>75.78</td>\n",
       "      <td>6183.95</td>\n",
       "      <td>5986.26</td>\n",
       "      <td>197.69</td>\n",
       "      <td>0.0</td>\n",
       "      <td>conventional</td>\n",
       "      <td>2015.0</td>\n",
       "      <td>Albany</td>\n",
       "    </tr>\n",
       "  </tbody>\n",
       "</table>\n",
       "</div>"
      ],
      "text/plain": [
       "   Unnamed: 0        Date  AveragePrice  Total Volume     4046       4225  \\\n",
       "0         0.0  27-12-2015          1.33      64236.62  1036.74   54454.85   \n",
       "1         1.0  20-12-2015          1.35      54876.98   674.28   44638.81   \n",
       "2         2.0  13-12-2015          0.93     118220.22   794.70  109149.67   \n",
       "3         3.0  06-12-2015          1.08      78992.15  1132.00   71976.41   \n",
       "4         4.0  29-11-2015          1.28      51039.60   941.48   43838.39   \n",
       "\n",
       "     4770  Total Bags  Small Bags  Large Bags  XLarge Bags          type  \\\n",
       "0   48.16     8696.87     8603.62       93.25          0.0  conventional   \n",
       "1   58.33     9505.56     9408.07       97.49          0.0  conventional   \n",
       "2  130.50     8145.35     8042.21      103.14          0.0  conventional   \n",
       "3   72.58     5811.16     5677.40      133.76          0.0  conventional   \n",
       "4   75.78     6183.95     5986.26      197.69          0.0  conventional   \n",
       "\n",
       "     year  region  \n",
       "0  2015.0  Albany  \n",
       "1  2015.0  Albany  \n",
       "2  2015.0  Albany  \n",
       "3  2015.0  Albany  \n",
       "4  2015.0  Albany  "
      ]
     },
     "execution_count": 12,
     "metadata": {},
     "output_type": "execute_result"
    }
   ],
   "source": [
    "df.head()"
   ]
  },
  {
   "cell_type": "code",
   "execution_count": 13,
   "id": "56879b06",
   "metadata": {},
   "outputs": [
    {
     "data": {
      "text/html": [
       "<div>\n",
       "<style scoped>\n",
       "    .dataframe tbody tr th:only-of-type {\n",
       "        vertical-align: middle;\n",
       "    }\n",
       "\n",
       "    .dataframe tbody tr th {\n",
       "        vertical-align: top;\n",
       "    }\n",
       "\n",
       "    .dataframe thead th {\n",
       "        text-align: right;\n",
       "    }\n",
       "</style>\n",
       "<table border=\"1\" class=\"dataframe\">\n",
       "  <thead>\n",
       "    <tr style=\"text-align: right;\">\n",
       "      <th></th>\n",
       "      <th>Unnamed: 0</th>\n",
       "      <th>Date</th>\n",
       "      <th>AveragePrice</th>\n",
       "      <th>Total Volume</th>\n",
       "      <th>4046</th>\n",
       "      <th>4225</th>\n",
       "      <th>4770</th>\n",
       "      <th>Total Bags</th>\n",
       "      <th>Small Bags</th>\n",
       "      <th>Large Bags</th>\n",
       "      <th>XLarge Bags</th>\n",
       "      <th>type</th>\n",
       "      <th>year</th>\n",
       "      <th>region</th>\n",
       "    </tr>\n",
       "  </thead>\n",
       "  <tbody>\n",
       "    <tr>\n",
       "      <th>34712</th>\n",
       "      <td>7.0</td>\n",
       "      <td>04-02-2018</td>\n",
       "      <td>1.63</td>\n",
       "      <td>17074.83</td>\n",
       "      <td>2046.96</td>\n",
       "      <td>1529.20</td>\n",
       "      <td>0.00</td>\n",
       "      <td>13498.67</td>\n",
       "      <td>13066.82</td>\n",
       "      <td>431.85</td>\n",
       "      <td>0.0</td>\n",
       "      <td>organic</td>\n",
       "      <td>2018.0</td>\n",
       "      <td>WestTexNewMexico</td>\n",
       "    </tr>\n",
       "    <tr>\n",
       "      <th>34713</th>\n",
       "      <td>8.0</td>\n",
       "      <td>28-01-2018</td>\n",
       "      <td>1.71</td>\n",
       "      <td>13888.04</td>\n",
       "      <td>1191.70</td>\n",
       "      <td>3431.50</td>\n",
       "      <td>0.00</td>\n",
       "      <td>9264.84</td>\n",
       "      <td>8940.04</td>\n",
       "      <td>324.80</td>\n",
       "      <td>0.0</td>\n",
       "      <td>organic</td>\n",
       "      <td>2018.0</td>\n",
       "      <td>WestTexNewMexico</td>\n",
       "    </tr>\n",
       "    <tr>\n",
       "      <th>34714</th>\n",
       "      <td>9.0</td>\n",
       "      <td>21-01-2018</td>\n",
       "      <td>1.87</td>\n",
       "      <td>13766.76</td>\n",
       "      <td>1191.92</td>\n",
       "      <td>2452.79</td>\n",
       "      <td>727.94</td>\n",
       "      <td>9394.11</td>\n",
       "      <td>9351.80</td>\n",
       "      <td>42.31</td>\n",
       "      <td>0.0</td>\n",
       "      <td>organic</td>\n",
       "      <td>2018.0</td>\n",
       "      <td>WestTexNewMexico</td>\n",
       "    </tr>\n",
       "    <tr>\n",
       "      <th>34715</th>\n",
       "      <td>10.0</td>\n",
       "      <td>14-01-2018</td>\n",
       "      <td>1.93</td>\n",
       "      <td>16205.22</td>\n",
       "      <td>1527.63</td>\n",
       "      <td>2981.04</td>\n",
       "      <td>727.01</td>\n",
       "      <td>10969.54</td>\n",
       "      <td>10919.54</td>\n",
       "      <td>50.00</td>\n",
       "      <td>0.0</td>\n",
       "      <td>organic</td>\n",
       "      <td>2018.0</td>\n",
       "      <td>WestTexNewMexico</td>\n",
       "    </tr>\n",
       "    <tr>\n",
       "      <th>34716</th>\n",
       "      <td>11.0</td>\n",
       "      <td>07-01-2018</td>\n",
       "      <td>1.62</td>\n",
       "      <td>17489.58</td>\n",
       "      <td>2894.77</td>\n",
       "      <td>2356.13</td>\n",
       "      <td>224.53</td>\n",
       "      <td>12014.15</td>\n",
       "      <td>11988.14</td>\n",
       "      <td>26.01</td>\n",
       "      <td>0.0</td>\n",
       "      <td>organic</td>\n",
       "      <td>2018.0</td>\n",
       "      <td>WestTexNewMexico</td>\n",
       "    </tr>\n",
       "  </tbody>\n",
       "</table>\n",
       "</div>"
      ],
      "text/plain": [
       "       Unnamed: 0        Date  AveragePrice  Total Volume     4046     4225  \\\n",
       "34712         7.0  04-02-2018          1.63      17074.83  2046.96  1529.20   \n",
       "34713         8.0  28-01-2018          1.71      13888.04  1191.70  3431.50   \n",
       "34714         9.0  21-01-2018          1.87      13766.76  1191.92  2452.79   \n",
       "34715        10.0  14-01-2018          1.93      16205.22  1527.63  2981.04   \n",
       "34716        11.0  07-01-2018          1.62      17489.58  2894.77  2356.13   \n",
       "\n",
       "         4770  Total Bags  Small Bags  Large Bags  XLarge Bags     type  \\\n",
       "34712    0.00    13498.67    13066.82      431.85          0.0  organic   \n",
       "34713    0.00     9264.84     8940.04      324.80          0.0  organic   \n",
       "34714  727.94     9394.11     9351.80       42.31          0.0  organic   \n",
       "34715  727.01    10969.54    10919.54       50.00          0.0  organic   \n",
       "34716  224.53    12014.15    11988.14       26.01          0.0  organic   \n",
       "\n",
       "         year            region  \n",
       "34712  2018.0  WestTexNewMexico  \n",
       "34713  2018.0  WestTexNewMexico  \n",
       "34714  2018.0  WestTexNewMexico  \n",
       "34715  2018.0  WestTexNewMexico  \n",
       "34716  2018.0  WestTexNewMexico  "
      ]
     },
     "execution_count": 13,
     "metadata": {},
     "output_type": "execute_result"
    }
   ],
   "source": [
    "df.tail()"
   ]
  },
  {
   "cell_type": "code",
   "execution_count": 14,
   "id": "01bd385d",
   "metadata": {},
   "outputs": [
    {
     "data": {
      "text/html": [
       "<div>\n",
       "<style scoped>\n",
       "    .dataframe tbody tr th:only-of-type {\n",
       "        vertical-align: middle;\n",
       "    }\n",
       "\n",
       "    .dataframe tbody tr th {\n",
       "        vertical-align: top;\n",
       "    }\n",
       "\n",
       "    .dataframe thead th {\n",
       "        text-align: right;\n",
       "    }\n",
       "</style>\n",
       "<table border=\"1\" class=\"dataframe\">\n",
       "  <thead>\n",
       "    <tr style=\"text-align: right;\">\n",
       "      <th></th>\n",
       "      <th>Unnamed: 0</th>\n",
       "      <th>AveragePrice</th>\n",
       "      <th>Total Volume</th>\n",
       "      <th>4046</th>\n",
       "      <th>4225</th>\n",
       "      <th>4770</th>\n",
       "      <th>Total Bags</th>\n",
       "      <th>Small Bags</th>\n",
       "      <th>Large Bags</th>\n",
       "      <th>XLarge Bags</th>\n",
       "      <th>year</th>\n",
       "    </tr>\n",
       "  </thead>\n",
       "  <tbody>\n",
       "    <tr>\n",
       "      <th>count</th>\n",
       "      <td>19766.000000</td>\n",
       "      <td>19766.000000</td>\n",
       "      <td>1.976600e+04</td>\n",
       "      <td>1.976600e+04</td>\n",
       "      <td>1.976600e+04</td>\n",
       "      <td>1.976600e+04</td>\n",
       "      <td>1.976600e+04</td>\n",
       "      <td>1.976600e+04</td>\n",
       "      <td>1.976600e+04</td>\n",
       "      <td>19766.000000</td>\n",
       "      <td>19766.000000</td>\n",
       "    </tr>\n",
       "    <tr>\n",
       "      <th>mean</th>\n",
       "      <td>24.444298</td>\n",
       "      <td>1.380576</td>\n",
       "      <td>9.082998e+05</td>\n",
       "      <td>3.201335e+05</td>\n",
       "      <td>3.194286e+05</td>\n",
       "      <td>2.495535e+04</td>\n",
       "      <td>2.437804e+05</td>\n",
       "      <td>1.873045e+05</td>\n",
       "      <td>5.344044e+04</td>\n",
       "      <td>3035.461097</td>\n",
       "      <td>2016.072296</td>\n",
       "    </tr>\n",
       "    <tr>\n",
       "      <th>std</th>\n",
       "      <td>15.450555</td>\n",
       "      <td>0.400254</td>\n",
       "      <td>3.543859e+06</td>\n",
       "      <td>1.333107e+06</td>\n",
       "      <td>1.249147e+06</td>\n",
       "      <td>1.103271e+05</td>\n",
       "      <td>9.707177e+05</td>\n",
       "      <td>7.392683e+05</td>\n",
       "      <td>2.367124e+05</td>\n",
       "      <td>17127.068261</td>\n",
       "      <td>0.945991</td>\n",
       "    </tr>\n",
       "    <tr>\n",
       "      <th>min</th>\n",
       "      <td>0.000000</td>\n",
       "      <td>0.440000</td>\n",
       "      <td>8.456000e+01</td>\n",
       "      <td>0.000000e+00</td>\n",
       "      <td>0.000000e+00</td>\n",
       "      <td>0.000000e+00</td>\n",
       "      <td>0.000000e+00</td>\n",
       "      <td>0.000000e+00</td>\n",
       "      <td>0.000000e+00</td>\n",
       "      <td>0.000000</td>\n",
       "      <td>2015.000000</td>\n",
       "    </tr>\n",
       "    <tr>\n",
       "      <th>25%</th>\n",
       "      <td>10.000000</td>\n",
       "      <td>1.080000</td>\n",
       "      <td>1.238263e+04</td>\n",
       "      <td>1.021060e+03</td>\n",
       "      <td>3.466915e+03</td>\n",
       "      <td>0.000000e+00</td>\n",
       "      <td>5.966125e+03</td>\n",
       "      <td>3.494990e+03</td>\n",
       "      <td>1.469000e+02</td>\n",
       "      <td>0.000000</td>\n",
       "      <td>2015.000000</td>\n",
       "    </tr>\n",
       "    <tr>\n",
       "      <th>50%</th>\n",
       "      <td>24.000000</td>\n",
       "      <td>1.330000</td>\n",
       "      <td>1.257663e+05</td>\n",
       "      <td>1.114762e+04</td>\n",
       "      <td>3.442968e+04</td>\n",
       "      <td>2.658350e+02</td>\n",
       "      <td>4.344802e+04</td>\n",
       "      <td>3.014069e+04</td>\n",
       "      <td>2.840850e+03</td>\n",
       "      <td>0.000000</td>\n",
       "      <td>2016.000000</td>\n",
       "    </tr>\n",
       "    <tr>\n",
       "      <th>75%</th>\n",
       "      <td>38.000000</td>\n",
       "      <td>1.630000</td>\n",
       "      <td>4.761813e+05</td>\n",
       "      <td>1.223621e+05</td>\n",
       "      <td>1.728365e+05</td>\n",
       "      <td>7.678560e+03</td>\n",
       "      <td>1.145222e+05</td>\n",
       "      <td>8.644612e+04</td>\n",
       "      <td>2.255365e+04</td>\n",
       "      <td>146.377500</td>\n",
       "      <td>2017.000000</td>\n",
       "    </tr>\n",
       "    <tr>\n",
       "      <th>max</th>\n",
       "      <td>52.000000</td>\n",
       "      <td>3.250000</td>\n",
       "      <td>6.250565e+07</td>\n",
       "      <td>2.274362e+07</td>\n",
       "      <td>2.047057e+07</td>\n",
       "      <td>2.546439e+06</td>\n",
       "      <td>1.937313e+07</td>\n",
       "      <td>1.338459e+07</td>\n",
       "      <td>5.719097e+06</td>\n",
       "      <td>551693.650000</td>\n",
       "      <td>2018.000000</td>\n",
       "    </tr>\n",
       "  </tbody>\n",
       "</table>\n",
       "</div>"
      ],
      "text/plain": [
       "         Unnamed: 0  AveragePrice  Total Volume          4046          4225  \\\n",
       "count  19766.000000  19766.000000  1.976600e+04  1.976600e+04  1.976600e+04   \n",
       "mean      24.444298      1.380576  9.082998e+05  3.201335e+05  3.194286e+05   \n",
       "std       15.450555      0.400254  3.543859e+06  1.333107e+06  1.249147e+06   \n",
       "min        0.000000      0.440000  8.456000e+01  0.000000e+00  0.000000e+00   \n",
       "25%       10.000000      1.080000  1.238263e+04  1.021060e+03  3.466915e+03   \n",
       "50%       24.000000      1.330000  1.257663e+05  1.114762e+04  3.442968e+04   \n",
       "75%       38.000000      1.630000  4.761813e+05  1.223621e+05  1.728365e+05   \n",
       "max       52.000000      3.250000  6.250565e+07  2.274362e+07  2.047057e+07   \n",
       "\n",
       "               4770    Total Bags    Small Bags    Large Bags    XLarge Bags  \\\n",
       "count  1.976600e+04  1.976600e+04  1.976600e+04  1.976600e+04   19766.000000   \n",
       "mean   2.495535e+04  2.437804e+05  1.873045e+05  5.344044e+04    3035.461097   \n",
       "std    1.103271e+05  9.707177e+05  7.392683e+05  2.367124e+05   17127.068261   \n",
       "min    0.000000e+00  0.000000e+00  0.000000e+00  0.000000e+00       0.000000   \n",
       "25%    0.000000e+00  5.966125e+03  3.494990e+03  1.469000e+02       0.000000   \n",
       "50%    2.658350e+02  4.344802e+04  3.014069e+04  2.840850e+03       0.000000   \n",
       "75%    7.678560e+03  1.145222e+05  8.644612e+04  2.255365e+04     146.377500   \n",
       "max    2.546439e+06  1.937313e+07  1.338459e+07  5.719097e+06  551693.650000   \n",
       "\n",
       "               year  \n",
       "count  19766.000000  \n",
       "mean    2016.072296  \n",
       "std        0.945991  \n",
       "min     2015.000000  \n",
       "25%     2015.000000  \n",
       "50%     2016.000000  \n",
       "75%     2017.000000  \n",
       "max     2018.000000  "
      ]
     },
     "execution_count": 14,
     "metadata": {},
     "output_type": "execute_result"
    }
   ],
   "source": [
    "df.describe()"
   ]
  },
  {
   "cell_type": "code",
   "execution_count": 15,
   "id": "503e7af9",
   "metadata": {},
   "outputs": [],
   "source": [
    "# now we have to check null values for the dataset"
   ]
  },
  {
   "cell_type": "code",
   "execution_count": 16,
   "id": "47f2e043",
   "metadata": {},
   "outputs": [
    {
     "data": {
      "text/plain": [
       "Unnamed: 0      14951\n",
       "Date            14951\n",
       "AveragePrice    14951\n",
       "Total Volume    14951\n",
       "4046            14951\n",
       "4225            14951\n",
       "4770            14951\n",
       "Total Bags      14951\n",
       "Small Bags      14951\n",
       "Large Bags      14951\n",
       "XLarge Bags     14951\n",
       "type            14951\n",
       "year            14951\n",
       "region          14951\n",
       "dtype: int64"
      ]
     },
     "execution_count": 16,
     "metadata": {},
     "output_type": "execute_result"
    }
   ],
   "source": [
    "df.isna().sum()"
   ]
  },
  {
   "cell_type": "code",
   "execution_count": 17,
   "id": "93d524ab",
   "metadata": {},
   "outputs": [
    {
     "data": {
      "text/plain": [
       "Unnamed: 0      14951\n",
       "Date            14951\n",
       "AveragePrice    14951\n",
       "Total Volume    14951\n",
       "4046            14951\n",
       "4225            14951\n",
       "4770            14951\n",
       "Total Bags      14951\n",
       "Small Bags      14951\n",
       "Large Bags      14951\n",
       "XLarge Bags     14951\n",
       "type            14951\n",
       "year            14951\n",
       "region          14951\n",
       "dtype: int64"
      ]
     },
     "execution_count": 17,
     "metadata": {},
     "output_type": "execute_result"
    }
   ],
   "source": [
    "df.apply(lambda x: sum(x.isnull()))"
   ]
  },
  {
   "cell_type": "code",
   "execution_count": 19,
   "id": "dc09607b",
   "metadata": {},
   "outputs": [
    {
     "data": {
      "text/plain": [
       "Index(['Unnamed: 0', 'Date', 'AveragePrice', 'Total Volume', '4046', '4225',\n",
       "       '4770', 'Total Bags', 'Small Bags', 'Large Bags', 'XLarge Bags', 'type',\n",
       "       'year', 'region'],\n",
       "      dtype='object')"
      ]
     },
     "execution_count": 19,
     "metadata": {},
     "output_type": "execute_result"
    }
   ],
   "source": [
    "df.columns"
   ]
  },
  {
   "cell_type": "code",
   "execution_count": 20,
   "id": "da863417",
   "metadata": {},
   "outputs": [
    {
     "data": {
      "text/html": [
       "<div>\n",
       "<style scoped>\n",
       "    .dataframe tbody tr th:only-of-type {\n",
       "        vertical-align: middle;\n",
       "    }\n",
       "\n",
       "    .dataframe tbody tr th {\n",
       "        vertical-align: top;\n",
       "    }\n",
       "\n",
       "    .dataframe thead th {\n",
       "        text-align: right;\n",
       "    }\n",
       "</style>\n",
       "<table border=\"1\" class=\"dataframe\">\n",
       "  <thead>\n",
       "    <tr style=\"text-align: right;\">\n",
       "      <th></th>\n",
       "      <th>Unnamed: 0</th>\n",
       "      <th>Date</th>\n",
       "      <th>AveragePrice</th>\n",
       "      <th>Total Volume</th>\n",
       "      <th>4046</th>\n",
       "      <th>4225</th>\n",
       "      <th>4770</th>\n",
       "      <th>Total Bags</th>\n",
       "      <th>Small Bags</th>\n",
       "      <th>Large Bags</th>\n",
       "      <th>XLarge Bags</th>\n",
       "      <th>type</th>\n",
       "      <th>year</th>\n",
       "      <th>region</th>\n",
       "    </tr>\n",
       "  </thead>\n",
       "  <tbody>\n",
       "    <tr>\n",
       "      <th>0</th>\n",
       "      <td>0.0</td>\n",
       "      <td>27-12-2015</td>\n",
       "      <td>1.33</td>\n",
       "      <td>64236.62</td>\n",
       "      <td>1036.74</td>\n",
       "      <td>54454.85</td>\n",
       "      <td>48.16</td>\n",
       "      <td>8696.87</td>\n",
       "      <td>8603.62</td>\n",
       "      <td>93.25</td>\n",
       "      <td>0.0</td>\n",
       "      <td>conventional</td>\n",
       "      <td>2015.0</td>\n",
       "      <td>Albany</td>\n",
       "    </tr>\n",
       "    <tr>\n",
       "      <th>1</th>\n",
       "      <td>1.0</td>\n",
       "      <td>20-12-2015</td>\n",
       "      <td>1.35</td>\n",
       "      <td>54876.98</td>\n",
       "      <td>674.28</td>\n",
       "      <td>44638.81</td>\n",
       "      <td>58.33</td>\n",
       "      <td>9505.56</td>\n",
       "      <td>9408.07</td>\n",
       "      <td>97.49</td>\n",
       "      <td>0.0</td>\n",
       "      <td>conventional</td>\n",
       "      <td>2015.0</td>\n",
       "      <td>Albany</td>\n",
       "    </tr>\n",
       "    <tr>\n",
       "      <th>2</th>\n",
       "      <td>2.0</td>\n",
       "      <td>13-12-2015</td>\n",
       "      <td>0.93</td>\n",
       "      <td>118220.22</td>\n",
       "      <td>794.70</td>\n",
       "      <td>109149.67</td>\n",
       "      <td>130.50</td>\n",
       "      <td>8145.35</td>\n",
       "      <td>8042.21</td>\n",
       "      <td>103.14</td>\n",
       "      <td>0.0</td>\n",
       "      <td>conventional</td>\n",
       "      <td>2015.0</td>\n",
       "      <td>Albany</td>\n",
       "    </tr>\n",
       "    <tr>\n",
       "      <th>3</th>\n",
       "      <td>3.0</td>\n",
       "      <td>06-12-2015</td>\n",
       "      <td>1.08</td>\n",
       "      <td>78992.15</td>\n",
       "      <td>1132.00</td>\n",
       "      <td>71976.41</td>\n",
       "      <td>72.58</td>\n",
       "      <td>5811.16</td>\n",
       "      <td>5677.40</td>\n",
       "      <td>133.76</td>\n",
       "      <td>0.0</td>\n",
       "      <td>conventional</td>\n",
       "      <td>2015.0</td>\n",
       "      <td>Albany</td>\n",
       "    </tr>\n",
       "    <tr>\n",
       "      <th>4</th>\n",
       "      <td>4.0</td>\n",
       "      <td>29-11-2015</td>\n",
       "      <td>1.28</td>\n",
       "      <td>51039.60</td>\n",
       "      <td>941.48</td>\n",
       "      <td>43838.39</td>\n",
       "      <td>75.78</td>\n",
       "      <td>6183.95</td>\n",
       "      <td>5986.26</td>\n",
       "      <td>197.69</td>\n",
       "      <td>0.0</td>\n",
       "      <td>conventional</td>\n",
       "      <td>2015.0</td>\n",
       "      <td>Albany</td>\n",
       "    </tr>\n",
       "    <tr>\n",
       "      <th>...</th>\n",
       "      <td>...</td>\n",
       "      <td>...</td>\n",
       "      <td>...</td>\n",
       "      <td>...</td>\n",
       "      <td>...</td>\n",
       "      <td>...</td>\n",
       "      <td>...</td>\n",
       "      <td>...</td>\n",
       "      <td>...</td>\n",
       "      <td>...</td>\n",
       "      <td>...</td>\n",
       "      <td>...</td>\n",
       "      <td>...</td>\n",
       "      <td>...</td>\n",
       "    </tr>\n",
       "    <tr>\n",
       "      <th>34712</th>\n",
       "      <td>7.0</td>\n",
       "      <td>04-02-2018</td>\n",
       "      <td>1.63</td>\n",
       "      <td>17074.83</td>\n",
       "      <td>2046.96</td>\n",
       "      <td>1529.20</td>\n",
       "      <td>0.00</td>\n",
       "      <td>13498.67</td>\n",
       "      <td>13066.82</td>\n",
       "      <td>431.85</td>\n",
       "      <td>0.0</td>\n",
       "      <td>organic</td>\n",
       "      <td>2018.0</td>\n",
       "      <td>WestTexNewMexico</td>\n",
       "    </tr>\n",
       "    <tr>\n",
       "      <th>34713</th>\n",
       "      <td>8.0</td>\n",
       "      <td>28-01-2018</td>\n",
       "      <td>1.71</td>\n",
       "      <td>13888.04</td>\n",
       "      <td>1191.70</td>\n",
       "      <td>3431.50</td>\n",
       "      <td>0.00</td>\n",
       "      <td>9264.84</td>\n",
       "      <td>8940.04</td>\n",
       "      <td>324.80</td>\n",
       "      <td>0.0</td>\n",
       "      <td>organic</td>\n",
       "      <td>2018.0</td>\n",
       "      <td>WestTexNewMexico</td>\n",
       "    </tr>\n",
       "    <tr>\n",
       "      <th>34714</th>\n",
       "      <td>9.0</td>\n",
       "      <td>21-01-2018</td>\n",
       "      <td>1.87</td>\n",
       "      <td>13766.76</td>\n",
       "      <td>1191.92</td>\n",
       "      <td>2452.79</td>\n",
       "      <td>727.94</td>\n",
       "      <td>9394.11</td>\n",
       "      <td>9351.80</td>\n",
       "      <td>42.31</td>\n",
       "      <td>0.0</td>\n",
       "      <td>organic</td>\n",
       "      <td>2018.0</td>\n",
       "      <td>WestTexNewMexico</td>\n",
       "    </tr>\n",
       "    <tr>\n",
       "      <th>34715</th>\n",
       "      <td>10.0</td>\n",
       "      <td>14-01-2018</td>\n",
       "      <td>1.93</td>\n",
       "      <td>16205.22</td>\n",
       "      <td>1527.63</td>\n",
       "      <td>2981.04</td>\n",
       "      <td>727.01</td>\n",
       "      <td>10969.54</td>\n",
       "      <td>10919.54</td>\n",
       "      <td>50.00</td>\n",
       "      <td>0.0</td>\n",
       "      <td>organic</td>\n",
       "      <td>2018.0</td>\n",
       "      <td>WestTexNewMexico</td>\n",
       "    </tr>\n",
       "    <tr>\n",
       "      <th>34716</th>\n",
       "      <td>11.0</td>\n",
       "      <td>07-01-2018</td>\n",
       "      <td>1.62</td>\n",
       "      <td>17489.58</td>\n",
       "      <td>2894.77</td>\n",
       "      <td>2356.13</td>\n",
       "      <td>224.53</td>\n",
       "      <td>12014.15</td>\n",
       "      <td>11988.14</td>\n",
       "      <td>26.01</td>\n",
       "      <td>0.0</td>\n",
       "      <td>organic</td>\n",
       "      <td>2018.0</td>\n",
       "      <td>WestTexNewMexico</td>\n",
       "    </tr>\n",
       "  </tbody>\n",
       "</table>\n",
       "<p>19766 rows × 14 columns</p>\n",
       "</div>"
      ],
      "text/plain": [
       "       Unnamed: 0        Date  AveragePrice  Total Volume     4046       4225  \\\n",
       "0             0.0  27-12-2015          1.33      64236.62  1036.74   54454.85   \n",
       "1             1.0  20-12-2015          1.35      54876.98   674.28   44638.81   \n",
       "2             2.0  13-12-2015          0.93     118220.22   794.70  109149.67   \n",
       "3             3.0  06-12-2015          1.08      78992.15  1132.00   71976.41   \n",
       "4             4.0  29-11-2015          1.28      51039.60   941.48   43838.39   \n",
       "...           ...         ...           ...           ...      ...        ...   \n",
       "34712         7.0  04-02-2018          1.63      17074.83  2046.96    1529.20   \n",
       "34713         8.0  28-01-2018          1.71      13888.04  1191.70    3431.50   \n",
       "34714         9.0  21-01-2018          1.87      13766.76  1191.92    2452.79   \n",
       "34715        10.0  14-01-2018          1.93      16205.22  1527.63    2981.04   \n",
       "34716        11.0  07-01-2018          1.62      17489.58  2894.77    2356.13   \n",
       "\n",
       "         4770  Total Bags  Small Bags  Large Bags  XLarge Bags          type  \\\n",
       "0       48.16     8696.87     8603.62       93.25          0.0  conventional   \n",
       "1       58.33     9505.56     9408.07       97.49          0.0  conventional   \n",
       "2      130.50     8145.35     8042.21      103.14          0.0  conventional   \n",
       "3       72.58     5811.16     5677.40      133.76          0.0  conventional   \n",
       "4       75.78     6183.95     5986.26      197.69          0.0  conventional   \n",
       "...       ...         ...         ...         ...          ...           ...   \n",
       "34712    0.00    13498.67    13066.82      431.85          0.0       organic   \n",
       "34713    0.00     9264.84     8940.04      324.80          0.0       organic   \n",
       "34714  727.94     9394.11     9351.80       42.31          0.0       organic   \n",
       "34715  727.01    10969.54    10919.54       50.00          0.0       organic   \n",
       "34716  224.53    12014.15    11988.14       26.01          0.0       organic   \n",
       "\n",
       "         year            region  \n",
       "0      2015.0            Albany  \n",
       "1      2015.0            Albany  \n",
       "2      2015.0            Albany  \n",
       "3      2015.0            Albany  \n",
       "4      2015.0            Albany  \n",
       "...       ...               ...  \n",
       "34712  2018.0  WestTexNewMexico  \n",
       "34713  2018.0  WestTexNewMexico  \n",
       "34714  2018.0  WestTexNewMexico  \n",
       "34715  2018.0  WestTexNewMexico  \n",
       "34716  2018.0  WestTexNewMexico  \n",
       "\n",
       "[19766 rows x 14 columns]"
      ]
     },
     "execution_count": 20,
     "metadata": {},
     "output_type": "execute_result"
    }
   ],
   "source": [
    "df.dropna(inplace=True)\n",
    "df"
   ]
  },
  {
   "cell_type": "code",
   "execution_count": 21,
   "id": "895cfd9f",
   "metadata": {},
   "outputs": [
    {
     "data": {
      "image/png": "[encoded data removed]",
      "text/plain": [
       "<Figure size 432x288 with 2 Axes>"
      ]
     },
     "metadata": {
      "needs_background": "light"
     },
     "output_type": "display_data"
    }
   ],
   "source": [
    "sns.heatmap(df.isnull());"
   ]
  },
  {
   "cell_type": "code",
   "execution_count": 22,
   "id": "4d0a6306",
   "metadata": {},
   "outputs": [
    {
     "name": "stdout",
     "output_type": "stream",
     "text": [
      "total number of duplicate values :  1517\n"
     ]
    }
   ],
   "source": [
    "print('total number of duplicate values : ',sum(df.duplicated()))"
   ]
  },
  {
   "cell_type": "code",
   "execution_count": 23,
   "id": "ca60e5da",
   "metadata": {},
   "outputs": [],
   "source": [
    "# To remove duplicates from the dataset"
   ]
  },
  {
   "cell_type": "code",
   "execution_count": 25,
   "id": "7cea1f2e",
   "metadata": {},
   "outputs": [
    {
     "data": {
      "text/html": [
       "<div>\n",
       "<style scoped>\n",
       "    .dataframe tbody tr th:only-of-type {\n",
       "        vertical-align: middle;\n",
       "    }\n",
       "\n",
       "    .dataframe tbody tr th {\n",
       "        vertical-align: top;\n",
       "    }\n",
       "\n",
       "    .dataframe thead th {\n",
       "        text-align: right;\n",
       "    }\n",
       "</style>\n",
       "<table border=\"1\" class=\"dataframe\">\n",
       "  <thead>\n",
       "    <tr style=\"text-align: right;\">\n",
       "      <th></th>\n",
       "      <th>Unnamed: 0</th>\n",
       "      <th>Date</th>\n",
       "      <th>AveragePrice</th>\n",
       "      <th>Total Volume</th>\n",
       "      <th>4046</th>\n",
       "      <th>4225</th>\n",
       "      <th>4770</th>\n",
       "      <th>Total Bags</th>\n",
       "      <th>Small Bags</th>\n",
       "      <th>Large Bags</th>\n",
       "      <th>XLarge Bags</th>\n",
       "      <th>type</th>\n",
       "      <th>year</th>\n",
       "      <th>region</th>\n",
       "    </tr>\n",
       "  </thead>\n",
       "  <tbody>\n",
       "    <tr>\n",
       "      <th>0</th>\n",
       "      <td>0.0</td>\n",
       "      <td>27-12-2015</td>\n",
       "      <td>1.33</td>\n",
       "      <td>64236.62</td>\n",
       "      <td>1036.74</td>\n",
       "      <td>54454.85</td>\n",
       "      <td>48.16</td>\n",
       "      <td>8696.87</td>\n",
       "      <td>8603.62</td>\n",
       "      <td>93.25</td>\n",
       "      <td>0.0</td>\n",
       "      <td>conventional</td>\n",
       "      <td>2015.0</td>\n",
       "      <td>Albany</td>\n",
       "    </tr>\n",
       "    <tr>\n",
       "      <th>1</th>\n",
       "      <td>1.0</td>\n",
       "      <td>20-12-2015</td>\n",
       "      <td>1.35</td>\n",
       "      <td>54876.98</td>\n",
       "      <td>674.28</td>\n",
       "      <td>44638.81</td>\n",
       "      <td>58.33</td>\n",
       "      <td>9505.56</td>\n",
       "      <td>9408.07</td>\n",
       "      <td>97.49</td>\n",
       "      <td>0.0</td>\n",
       "      <td>conventional</td>\n",
       "      <td>2015.0</td>\n",
       "      <td>Albany</td>\n",
       "    </tr>\n",
       "    <tr>\n",
       "      <th>2</th>\n",
       "      <td>2.0</td>\n",
       "      <td>13-12-2015</td>\n",
       "      <td>0.93</td>\n",
       "      <td>118220.22</td>\n",
       "      <td>794.70</td>\n",
       "      <td>109149.67</td>\n",
       "      <td>130.50</td>\n",
       "      <td>8145.35</td>\n",
       "      <td>8042.21</td>\n",
       "      <td>103.14</td>\n",
       "      <td>0.0</td>\n",
       "      <td>conventional</td>\n",
       "      <td>2015.0</td>\n",
       "      <td>Albany</td>\n",
       "    </tr>\n",
       "    <tr>\n",
       "      <th>3</th>\n",
       "      <td>3.0</td>\n",
       "      <td>06-12-2015</td>\n",
       "      <td>1.08</td>\n",
       "      <td>78992.15</td>\n",
       "      <td>1132.00</td>\n",
       "      <td>71976.41</td>\n",
       "      <td>72.58</td>\n",
       "      <td>5811.16</td>\n",
       "      <td>5677.40</td>\n",
       "      <td>133.76</td>\n",
       "      <td>0.0</td>\n",
       "      <td>conventional</td>\n",
       "      <td>2015.0</td>\n",
       "      <td>Albany</td>\n",
       "    </tr>\n",
       "    <tr>\n",
       "      <th>4</th>\n",
       "      <td>4.0</td>\n",
       "      <td>29-11-2015</td>\n",
       "      <td>1.28</td>\n",
       "      <td>51039.60</td>\n",
       "      <td>941.48</td>\n",
       "      <td>43838.39</td>\n",
       "      <td>75.78</td>\n",
       "      <td>6183.95</td>\n",
       "      <td>5986.26</td>\n",
       "      <td>197.69</td>\n",
       "      <td>0.0</td>\n",
       "      <td>conventional</td>\n",
       "      <td>2015.0</td>\n",
       "      <td>Albany</td>\n",
       "    </tr>\n",
       "    <tr>\n",
       "      <th>...</th>\n",
       "      <td>...</td>\n",
       "      <td>...</td>\n",
       "      <td>...</td>\n",
       "      <td>...</td>\n",
       "      <td>...</td>\n",
       "      <td>...</td>\n",
       "      <td>...</td>\n",
       "      <td>...</td>\n",
       "      <td>...</td>\n",
       "      <td>...</td>\n",
       "      <td>...</td>\n",
       "      <td>...</td>\n",
       "      <td>...</td>\n",
       "      <td>...</td>\n",
       "    </tr>\n",
       "    <tr>\n",
       "      <th>34712</th>\n",
       "      <td>7.0</td>\n",
       "      <td>04-02-2018</td>\n",
       "      <td>1.63</td>\n",
       "      <td>17074.83</td>\n",
       "      <td>2046.96</td>\n",
       "      <td>1529.20</td>\n",
       "      <td>0.00</td>\n",
       "      <td>13498.67</td>\n",
       "      <td>13066.82</td>\n",
       "      <td>431.85</td>\n",
       "      <td>0.0</td>\n",
       "      <td>organic</td>\n",
       "      <td>2018.0</td>\n",
       "      <td>WestTexNewMexico</td>\n",
       "    </tr>\n",
       "    <tr>\n",
       "      <th>34713</th>\n",
       "      <td>8.0</td>\n",
       "      <td>28-01-2018</td>\n",
       "      <td>1.71</td>\n",
       "      <td>13888.04</td>\n",
       "      <td>1191.70</td>\n",
       "      <td>3431.50</td>\n",
       "      <td>0.00</td>\n",
       "      <td>9264.84</td>\n",
       "      <td>8940.04</td>\n",
       "      <td>324.80</td>\n",
       "      <td>0.0</td>\n",
       "      <td>organic</td>\n",
       "      <td>2018.0</td>\n",
       "      <td>WestTexNewMexico</td>\n",
       "    </tr>\n",
       "    <tr>\n",
       "      <th>34714</th>\n",
       "      <td>9.0</td>\n",
       "      <td>21-01-2018</td>\n",
       "      <td>1.87</td>\n",
       "      <td>13766.76</td>\n",
       "      <td>1191.92</td>\n",
       "      <td>2452.79</td>\n",
       "      <td>727.94</td>\n",
       "      <td>9394.11</td>\n",
       "      <td>9351.80</td>\n",
       "      <td>42.31</td>\n",
       "      <td>0.0</td>\n",
       "      <td>organic</td>\n",
       "      <td>2018.0</td>\n",
       "      <td>WestTexNewMexico</td>\n",
       "    </tr>\n",
       "    <tr>\n",
       "      <th>34715</th>\n",
       "      <td>10.0</td>\n",
       "      <td>14-01-2018</td>\n",
       "      <td>1.93</td>\n",
       "      <td>16205.22</td>\n",
       "      <td>1527.63</td>\n",
       "      <td>2981.04</td>\n",
       "      <td>727.01</td>\n",
       "      <td>10969.54</td>\n",
       "      <td>10919.54</td>\n",
       "      <td>50.00</td>\n",
       "      <td>0.0</td>\n",
       "      <td>organic</td>\n",
       "      <td>2018.0</td>\n",
       "      <td>WestTexNewMexico</td>\n",
       "    </tr>\n",
       "    <tr>\n",
       "      <th>34716</th>\n",
       "      <td>11.0</td>\n",
       "      <td>07-01-2018</td>\n",
       "      <td>1.62</td>\n",
       "      <td>17489.58</td>\n",
       "      <td>2894.77</td>\n",
       "      <td>2356.13</td>\n",
       "      <td>224.53</td>\n",
       "      <td>12014.15</td>\n",
       "      <td>11988.14</td>\n",
       "      <td>26.01</td>\n",
       "      <td>0.0</td>\n",
       "      <td>organic</td>\n",
       "      <td>2018.0</td>\n",
       "      <td>WestTexNewMexico</td>\n",
       "    </tr>\n",
       "  </tbody>\n",
       "</table>\n",
       "<p>18249 rows × 14 columns</p>\n",
       "</div>"
      ],
      "text/plain": [
       "       Unnamed: 0        Date  AveragePrice  Total Volume     4046       4225  \\\n",
       "0             0.0  27-12-2015          1.33      64236.62  1036.74   54454.85   \n",
       "1             1.0  20-12-2015          1.35      54876.98   674.28   44638.81   \n",
       "2             2.0  13-12-2015          0.93     118220.22   794.70  109149.67   \n",
       "3             3.0  06-12-2015          1.08      78992.15  1132.00   71976.41   \n",
       "4             4.0  29-11-2015          1.28      51039.60   941.48   43838.39   \n",
       "...           ...         ...           ...           ...      ...        ...   \n",
       "34712         7.0  04-02-2018          1.63      17074.83  2046.96    1529.20   \n",
       "34713         8.0  28-01-2018          1.71      13888.04  1191.70    3431.50   \n",
       "34714         9.0  21-01-2018          1.87      13766.76  1191.92    2452.79   \n",
       "34715        10.0  14-01-2018          1.93      16205.22  1527.63    2981.04   \n",
       "34716        11.0  07-01-2018          1.62      17489.58  2894.77    2356.13   \n",
       "\n",
       "         4770  Total Bags  Small Bags  Large Bags  XLarge Bags          type  \\\n",
       "0       48.16     8696.87     8603.62       93.25          0.0  conventional   \n",
       "1       58.33     9505.56     9408.07       97.49          0.0  conventional   \n",
       "2      130.50     8145.35     8042.21      103.14          0.0  conventional   \n",
       "3       72.58     5811.16     5677.40      133.76          0.0  conventional   \n",
       "4       75.78     6183.95     5986.26      197.69          0.0  conventional   \n",
       "...       ...         ...         ...         ...          ...           ...   \n",
       "34712    0.00    13498.67    13066.82      431.85          0.0       organic   \n",
       "34713    0.00     9264.84     8940.04      324.80          0.0       organic   \n",
       "34714  727.94     9394.11     9351.80       42.31          0.0       organic   \n",
       "34715  727.01    10969.54    10919.54       50.00          0.0       organic   \n",
       "34716  224.53    12014.15    11988.14       26.01          0.0       organic   \n",
       "\n",
       "         year            region  \n",
       "0      2015.0            Albany  \n",
       "1      2015.0            Albany  \n",
       "2      2015.0            Albany  \n",
       "3      2015.0            Albany  \n",
       "4      2015.0            Albany  \n",
       "...       ...               ...  \n",
       "34712  2018.0  WestTexNewMexico  \n",
       "34713  2018.0  WestTexNewMexico  \n",
       "34714  2018.0  WestTexNewMexico  \n",
       "34715  2018.0  WestTexNewMexico  \n",
       "34716  2018.0  WestTexNewMexico  \n",
       "\n",
       "[18249 rows x 14 columns]"
      ]
     },
     "execution_count": 25,
     "metadata": {},
     "output_type": "execute_result"
    }
   ],
   "source": [
    "df.drop_duplicates(subset=None, keep='first', inplace=False)"
   ]
  },
  {
   "cell_type": "code",
   "execution_count": 27,
   "id": "c5f88a1b",
   "metadata": {},
   "outputs": [],
   "source": [
    "df=df.drop(['Unnamed: 0'], axis=1)"
   ]
  },
  {
   "cell_type": "code",
   "execution_count": 28,
   "id": "9dc01775",
   "metadata": {},
   "outputs": [
    {
     "data": {
      "text/html": [
       "<div>\n",
       "<style scoped>\n",
       "    .dataframe tbody tr th:only-of-type {\n",
       "        vertical-align: middle;\n",
       "    }\n",
       "\n",
       "    .dataframe tbody tr th {\n",
       "        vertical-align: top;\n",
       "    }\n",
       "\n",
       "    .dataframe thead th {\n",
       "        text-align: right;\n",
       "    }\n",
       "</style>\n",
       "<table border=\"1\" class=\"dataframe\">\n",
       "  <thead>\n",
       "    <tr style=\"text-align: right;\">\n",
       "      <th></th>\n",
       "      <th>Date</th>\n",
       "      <th>AveragePrice</th>\n",
       "      <th>Total Volume</th>\n",
       "      <th>4046</th>\n",
       "      <th>4225</th>\n",
       "      <th>4770</th>\n",
       "      <th>Total Bags</th>\n",
       "      <th>Small Bags</th>\n",
       "      <th>Large Bags</th>\n",
       "      <th>XLarge Bags</th>\n",
       "      <th>type</th>\n",
       "      <th>year</th>\n",
       "      <th>region</th>\n",
       "    </tr>\n",
       "  </thead>\n",
       "  <tbody>\n",
       "    <tr>\n",
       "      <th>0</th>\n",
       "      <td>27-12-2015</td>\n",
       "      <td>1.33</td>\n",
       "      <td>64236.62</td>\n",
       "      <td>1036.74</td>\n",
       "      <td>54454.85</td>\n",
       "      <td>48.16</td>\n",
       "      <td>8696.87</td>\n",
       "      <td>8603.62</td>\n",
       "      <td>93.25</td>\n",
       "      <td>0.0</td>\n",
       "      <td>conventional</td>\n",
       "      <td>2015.0</td>\n",
       "      <td>Albany</td>\n",
       "    </tr>\n",
       "    <tr>\n",
       "      <th>1</th>\n",
       "      <td>20-12-2015</td>\n",
       "      <td>1.35</td>\n",
       "      <td>54876.98</td>\n",
       "      <td>674.28</td>\n",
       "      <td>44638.81</td>\n",
       "      <td>58.33</td>\n",
       "      <td>9505.56</td>\n",
       "      <td>9408.07</td>\n",
       "      <td>97.49</td>\n",
       "      <td>0.0</td>\n",
       "      <td>conventional</td>\n",
       "      <td>2015.0</td>\n",
       "      <td>Albany</td>\n",
       "    </tr>\n",
       "    <tr>\n",
       "      <th>2</th>\n",
       "      <td>13-12-2015</td>\n",
       "      <td>0.93</td>\n",
       "      <td>118220.22</td>\n",
       "      <td>794.70</td>\n",
       "      <td>109149.67</td>\n",
       "      <td>130.50</td>\n",
       "      <td>8145.35</td>\n",
       "      <td>8042.21</td>\n",
       "      <td>103.14</td>\n",
       "      <td>0.0</td>\n",
       "      <td>conventional</td>\n",
       "      <td>2015.0</td>\n",
       "      <td>Albany</td>\n",
       "    </tr>\n",
       "    <tr>\n",
       "      <th>3</th>\n",
       "      <td>06-12-2015</td>\n",
       "      <td>1.08</td>\n",
       "      <td>78992.15</td>\n",
       "      <td>1132.00</td>\n",
       "      <td>71976.41</td>\n",
       "      <td>72.58</td>\n",
       "      <td>5811.16</td>\n",
       "      <td>5677.40</td>\n",
       "      <td>133.76</td>\n",
       "      <td>0.0</td>\n",
       "      <td>conventional</td>\n",
       "      <td>2015.0</td>\n",
       "      <td>Albany</td>\n",
       "    </tr>\n",
       "    <tr>\n",
       "      <th>4</th>\n",
       "      <td>29-11-2015</td>\n",
       "      <td>1.28</td>\n",
       "      <td>51039.60</td>\n",
       "      <td>941.48</td>\n",
       "      <td>43838.39</td>\n",
       "      <td>75.78</td>\n",
       "      <td>6183.95</td>\n",
       "      <td>5986.26</td>\n",
       "      <td>197.69</td>\n",
       "      <td>0.0</td>\n",
       "      <td>conventional</td>\n",
       "      <td>2015.0</td>\n",
       "      <td>Albany</td>\n",
       "    </tr>\n",
       "  </tbody>\n",
       "</table>\n",
       "</div>"
      ],
      "text/plain": [
       "         Date  AveragePrice  Total Volume     4046       4225    4770  \\\n",
       "0  27-12-2015          1.33      64236.62  1036.74   54454.85   48.16   \n",
       "1  20-12-2015          1.35      54876.98   674.28   44638.81   58.33   \n",
       "2  13-12-2015          0.93     118220.22   794.70  109149.67  130.50   \n",
       "3  06-12-2015          1.08      78992.15  1132.00   71976.41   72.58   \n",
       "4  29-11-2015          1.28      51039.60   941.48   43838.39   75.78   \n",
       "\n",
       "   Total Bags  Small Bags  Large Bags  XLarge Bags          type    year  \\\n",
       "0     8696.87     8603.62       93.25          0.0  conventional  2015.0   \n",
       "1     9505.56     9408.07       97.49          0.0  conventional  2015.0   \n",
       "2     8145.35     8042.21      103.14          0.0  conventional  2015.0   \n",
       "3     5811.16     5677.40      133.76          0.0  conventional  2015.0   \n",
       "4     6183.95     5986.26      197.69          0.0  conventional  2015.0   \n",
       "\n",
       "   region  \n",
       "0  Albany  \n",
       "1  Albany  \n",
       "2  Albany  \n",
       "3  Albany  \n",
       "4  Albany  "
      ]
     },
     "execution_count": 28,
     "metadata": {},
     "output_type": "execute_result"
    }
   ],
   "source": [
    "df.head()"
   ]
  },
  {
   "cell_type": "code",
   "execution_count": 29,
   "id": "d1b57dbb",
   "metadata": {},
   "outputs": [],
   "source": [
    "# String Check"
   ]
  },
  {
   "cell_type": "code",
   "execution_count": 30,
   "id": "480a624c",
   "metadata": {},
   "outputs": [
    {
     "data": {
      "text/plain": [
       "Index(['Date', 'type', 'region'], dtype='object')"
      ]
     },
     "execution_count": 30,
     "metadata": {},
     "output_type": "execute_result"
    }
   ],
   "source": [
    "df.select_dtypes('object').columns"
   ]
  },
  {
   "cell_type": "code",
   "execution_count": 31,
   "id": "f4c23191",
   "metadata": {},
   "outputs": [],
   "source": [
    "# Outlier Detection"
   ]
  },
  {
   "cell_type": "code",
   "execution_count": 32,
   "id": "9d90e465",
   "metadata": {},
   "outputs": [
    {
     "data": {
      "image/png": "[encoded data removed]",
      "text/plain": [
       "<Figure size 864x864 with 1 Axes>"
      ]
     },
     "metadata": {},
     "output_type": "display_data"
    }
   ],
   "source": [
    "sns.set_style(\"white\")\n",
    "\n",
    "plt.figure(figsize=(12,12))\n",
    "sns.distplot(df.AveragePrice)\n",
    "plt.title(\"Distribution of Average Price\",fontsize=12);"
   ]
  },
  {
   "cell_type": "code",
   "execution_count": 33,
   "id": "2f593123",
   "metadata": {},
   "outputs": [],
   "source": [
    "# observation -Looks like positive skewed slightly"
   ]
  },
  {
   "cell_type": "code",
   "execution_count": 34,
   "id": "6697816c",
   "metadata": {},
   "outputs": [
    {
     "data": {
      "image/png": "[encoded data removed]",
      "text/plain": [
       "<Figure size 432x288 with 1 Axes>"
      ]
     },
     "execution_count": 34,
     "metadata": {},
     "output_type": "execute_result"
    },
    {
     "data": {
      "image/png": "[encoded data removed]",
      "text/plain": [
       "<Figure size 432x288 with 1 Axes>"
      ]
     },
     "metadata": {},
     "output_type": "display_data"
    }
   ],
   "source": [
    "import statsmodels.api as sm\n",
    "sm.qqplot(df.AveragePrice,line=\"s\")"
   ]
  },
  {
   "cell_type": "code",
   "execution_count": 35,
   "id": "8f8742df",
   "metadata": {},
   "outputs": [
    {
     "name": "stdout",
     "output_type": "stream",
     "text": [
      "Lower Limit : 0.5800684029086692 Upper Limit : 2.181083069316373\n"
     ]
    }
   ],
   "source": [
    "mean = df.AveragePrice.mean()\n",
    "std = df.AveragePrice.std()\n",
    "lower, upper = mean-std*2,mean+std*2 \n",
    "print(\"Lower Limit : {} Upper Limit : {}\".format(lower,upper))"
   ]
  },
  {
   "cell_type": "code",
   "execution_count": 36,
   "id": "59826566",
   "metadata": {},
   "outputs": [
    {
     "name": "stdout",
     "output_type": "stream",
     "text": [
      "Outlier values : [0.49, 0.53, 0.56, 0.58, 0.56, 0.54, 0.53, 0.52, 0.56, 0.58, 0.53, 0.51, 0.57, 0.57, 0.56, 0.58, 0.49, 0.53, 0.56, 0.58, 0.56, 0.54, 0.53, 0.52, 0.56, 0.58, 0.53, 0.51, 0.57, 0.57, 0.56, 0.58, 0.54, 0.58, 0.58, 0.58, 0.58, 0.56, 0.58, 0.58, 0.55, 0.57, 0.54, 0.56, 0.54, 0.56, 0.51, 0.57, 0.55, 2.2, 0.56, 2.22, 2.19, 0.53, 0.58, 0.55, 0.53, 0.57, 0.51, 0.54, 0.53, 0.57, 0.54, 0.46, 0.58, 0.54, 0.52, 0.56, 0.58, 0.56, 0.58, 2.28, 2.35, 2.29, 2.24, 2.19, 2.19, 2.29, 2.29, 2.24, 2.32, 2.24, 2.34, 2.33, 2.31, 2.23, 2.27, 2.3, 2.41, 2.31, 2.36, 2.37, 2.33, 2.31, 2.39, 2.31, 2.42, 2.39, 2.45, 2.38, 2.4, 2.31, 2.4, 2.25, 2.34, 2.24, 2.36, 2.3, 2.31, 2.24, 2.27, 2.27, 2.26, 2.38, 2.37, 2.21, 2.35, 2.28, 2.32, 2.26, 2.31, 2.19, 2.21, 2.21, 2.22, 2.31, 2.4, 2.34, 2.25, 2.22, 2.24, 2.28, 2.3, 2.2, 2.24, 2.34, 2.31, 2.21, 2.21, 2.24, 2.21, 2.21, 2.58, 2.79, 2.66, 2.59, 2.74, 2.79, 2.73, 2.73, 2.77, 2.71, 2.73, 2.72, 2.76, 2.75, 2.36, 2.2, 2.23, 2.19, 2.25, 2.29, 2.2, 2.28, 2.24, 2.37, 2.49, 2.58, 2.3, 2.3, 2.25, 2.24, 2.23, 2.2, 2.26, 2.28, 2.22, 2.41, 2.36, 2.54, 2.42, 2.67, 2.3, 2.68, 2.57, 2.34, 2.33, 2.34, 2.33, 2.34, 2.36, 2.27, 2.34, 2.23, 2.19, 2.36, 2.19, 2.3, 2.39, 2.33, 2.33, 2.32, 2.31, 2.31, 2.27, 2.36, 2.36, 2.34, 2.4, 2.24, 2.2, 2.31, 2.33, 2.3, 2.28, 2.24, 2.31, 2.32, 2.27, 2.28, 2.21, 2.24, 2.76, 2.3, 2.85, 3.03, 2.91, 2.2, 2.27, 2.3, 2.25, 2.44, 2.22, 2.38, 2.65, 2.46, 2.25, 2.33, 2.3, 2.41, 2.34, 2.36, 2.32, 2.27, 2.37, 2.41, 2.32, 2.4, 2.33, 2.28, 2.23, 2.26, 2.2, 2.3, 2.45, 2.32, 2.39, 2.26, 2.23, 2.24, 2.2, 2.19, 2.35, 2.62, 2.22, 2.4, 2.62, 2.47, 2.19, 2.55, 2.25, 2.41, 2.36, 2.46, 2.52, 2.61, 2.54, 2.65, 2.82, 2.44, 2.23, 2.39, 2.33, 2.19, 2.19, 2.23, 2.19, 2.2, 2.19, 2.22, 2.51, 2.74, 2.73, 2.28, 2.22, 2.35, 2.56, 2.57, 2.67, 2.67, 2.88, 2.94, 2.99, 3.12, 3.25, 2.93, 2.34, 2.72, 2.64, 2.35, 2.39, 2.37, 2.38, 2.38, 2.37, 2.33, 2.29, 2.37, 2.3, 2.32, 2.31, 2.21, 2.31, 2.25, 2.3, 2.34, 2.34, 2.27, 2.21, 2.33, 2.33, 2.3, 2.23, 2.33, 2.27, 2.31, 2.29, 2.38, 2.37, 2.3, 2.28, 2.73, 2.24, 2.24, 2.19, 2.35, 2.89, 2.23, 2.26, 2.27, 2.51, 2.25, 2.32, 2.23, 2.2, 0.58, 2.29, 2.57, 2.27, 2.93, 2.35, 2.79, 2.83, 2.23, 2.55, 2.75, 2.56, 2.54, 2.59, 2.59, 2.59, 2.26, 2.2, 2.21, 2.2, 2.2, 2.33, 2.34, 2.41, 2.62, 2.78, 2.79, 2.64, 2.65, 2.63, 2.71, 2.75, 2.62, 2.32, 2.21, 2.21, 2.23, 2.26, 2.55, 2.57, 2.57, 2.54, 2.46, 2.51, 2.19, 2.19, 2.2, 2.54, 2.37, 2.21, 2.22, 2.38, 2.67, 2.82, 2.55, 2.77, 2.8, 2.82, 2.83, 2.48, 2.35, 2.36, 2.47, 2.5, 2.48, 2.21, 2.31, 2.53, 2.58, 2.2, 0.44, 0.49, 0.51, 0.57, 2.22, 0.52, 0.48, 0.57, 0.57, 2.19, 2.73, 2.62, 2.39, 2.33, 2.44, 2.34, 2.32, 2.21, 2.19, 2.23, 2.27, 2.19, 2.21, 2.21, 2.4, 2.19, 2.26, 2.67, 2.67, 2.61, 2.62, 2.5, 2.67, 2.62, 2.58, 2.51, 2.25, 2.49, 2.6, 2.42, 2.48, 2.57, 2.35, 2.43, 2.44, 2.43, 2.43, 2.44, 2.55, 2.31, 2.99, 2.57, 2.58, 2.35, 2.42, 2.45, 2.48, 2.25, 2.25, 2.23, 2.2, 2.22, 2.25, 2.24, 2.25, 2.39, 2.59, 2.64, 2.47, 2.43, 2.28, 2.32, 2.32, 2.37, 2.29, 2.21, 0.56, 0.56, 2.19, 2.62, 2.4, 2.36, 2.81, 2.32, 2.59, 3.05, 2.47, 2.43, 2.22, 2.24, 2.19, 0.51, 2.32, 2.19, 2.48, 2.44, 2.36, 2.39, 2.38, 2.39, 2.41, 2.34, 2.23, 2.22, 2.26, 2.31, 2.29, 2.26, 2.26, 2.29, 2.87, 2.27, 2.35, 2.31, 2.65, 2.45, 2.3, 2.21, 2.38, 2.83, 2.31, 2.2, 2.28, 2.36, 2.33, 2.22, 2.24, 2.22, 2.25, 2.29, 2.25, 2.23, 2.33, 2.19, 2.45, 2.49, 2.48, 2.71, 2.85, 2.86, 2.81, 2.83, 2.84, 2.84, 2.85, 2.57, 2.33, 2.29, 2.35, 2.33, 2.34, 2.32, 2.32, 2.29, 2.2, 2.53, 2.85, 3.0, 2.38, 2.92, 2.89, 2.97, 3.04, 2.65, 2.29, 2.51, 2.38, 2.55, 2.63, 2.44, 2.61, 2.76, 2.73, 2.24, 2.21, 2.19, 2.27, 2.49, 2.33, 2.19, 2.36, 2.32, 2.37, 2.48, 2.5, 2.43, 2.46, 2.4, 2.43, 2.52, 2.39, 2.29, 2.35, 2.37, 2.31, 2.44, 2.46, 2.36, 2.5, 2.32, 2.25, 2.31, 2.24, 2.25, 2.33, 2.27, 2.23, 2.39, 2.37, 2.57, 2.42, 2.32, 2.37, 2.37, 2.31, 2.3, 2.22, 2.27, 3.0, 2.93, 2.57, 2.33, 2.44, 2.4, 2.45, 2.59, 2.66, 2.76, 2.77, 2.72, 2.73, 2.65, 2.64, 2.54, 2.58, 2.56, 2.59, 2.54, 2.59, 2.83, 2.88, 2.9, 2.92, 2.52, 2.58, 2.59, 2.7, 2.7, 2.58, 2.54, 2.34, 2.43, 2.3, 2.69, 2.8, 2.86, 2.83, 2.86, 2.87, 2.89, 2.96, 2.87, 2.65, 2.58, 2.6, 2.61, 2.61, 2.35, 2.65, 2.26, 2.21, 2.29, 2.25, 2.33, 2.26, 2.2, 2.54, 2.48, 2.55, 2.74, 2.88, 2.95, 2.94, 2.86, 2.93, 2.84, 2.76, 2.55, 2.45, 2.38, 2.66, 2.55, 2.2, 2.56, 2.5, 2.34, 2.27, 2.36, 2.49, 2.71, 2.69, 2.81, 2.84, 2.64, 2.28, 2.22, 2.22, 2.25, 2.4, 2.44, 2.43, 2.42, 2.37, 2.23, 2.7, 3.17, 2.27, 2.56, 2.61, 2.37, 2.45, 2.4, 2.4, 2.46, 2.52, 2.51, 2.46, 2.24, 2.22, 2.39, 2.37, 2.26, 2.36, 2.38, 2.39, 2.5, 2.43, 2.25, 2.25, 2.22, 2.27, 2.3]\n"
     ]
    }
   ],
   "source": [
    "outliers = [x for x in df.AveragePrice if x < lower or x > upper]\n",
    "print(\"Outlier values : {}\".format(outliers))"
   ]
  },
  {
   "cell_type": "code",
   "execution_count": 37,
   "id": "16d4a16b",
   "metadata": {},
   "outputs": [],
   "source": [
    "df_exclude = df[(df.AveragePrice < upper) | (df.AveragePrice > lower)]"
   ]
  },
  {
   "cell_type": "code",
   "execution_count": 38,
   "id": "699fc7b4",
   "metadata": {},
   "outputs": [
    {
     "data": {
      "text/html": [
       "<div>\n",
       "<style scoped>\n",
       "    .dataframe tbody tr th:only-of-type {\n",
       "        vertical-align: middle;\n",
       "    }\n",
       "\n",
       "    .dataframe tbody tr th {\n",
       "        vertical-align: top;\n",
       "    }\n",
       "\n",
       "    .dataframe thead th {\n",
       "        text-align: right;\n",
       "    }\n",
       "</style>\n",
       "<table border=\"1\" class=\"dataframe\">\n",
       "  <thead>\n",
       "    <tr style=\"text-align: right;\">\n",
       "      <th></th>\n",
       "      <th>Date</th>\n",
       "      <th>AveragePrice</th>\n",
       "      <th>Total Volume</th>\n",
       "      <th>4046</th>\n",
       "      <th>4225</th>\n",
       "      <th>4770</th>\n",
       "      <th>Total Bags</th>\n",
       "      <th>Small Bags</th>\n",
       "      <th>Large Bags</th>\n",
       "      <th>XLarge Bags</th>\n",
       "      <th>type</th>\n",
       "      <th>year</th>\n",
       "      <th>region</th>\n",
       "    </tr>\n",
       "  </thead>\n",
       "  <tbody>\n",
       "    <tr>\n",
       "      <th>0</th>\n",
       "      <td>27-12-2015</td>\n",
       "      <td>1.33</td>\n",
       "      <td>64236.62</td>\n",
       "      <td>1036.74</td>\n",
       "      <td>54454.85</td>\n",
       "      <td>48.16</td>\n",
       "      <td>8696.87</td>\n",
       "      <td>8603.62</td>\n",
       "      <td>93.25</td>\n",
       "      <td>0.0</td>\n",
       "      <td>conventional</td>\n",
       "      <td>2015.0</td>\n",
       "      <td>Albany</td>\n",
       "    </tr>\n",
       "    <tr>\n",
       "      <th>1</th>\n",
       "      <td>20-12-2015</td>\n",
       "      <td>1.35</td>\n",
       "      <td>54876.98</td>\n",
       "      <td>674.28</td>\n",
       "      <td>44638.81</td>\n",
       "      <td>58.33</td>\n",
       "      <td>9505.56</td>\n",
       "      <td>9408.07</td>\n",
       "      <td>97.49</td>\n",
       "      <td>0.0</td>\n",
       "      <td>conventional</td>\n",
       "      <td>2015.0</td>\n",
       "      <td>Albany</td>\n",
       "    </tr>\n",
       "    <tr>\n",
       "      <th>2</th>\n",
       "      <td>13-12-2015</td>\n",
       "      <td>0.93</td>\n",
       "      <td>118220.22</td>\n",
       "      <td>794.70</td>\n",
       "      <td>109149.67</td>\n",
       "      <td>130.50</td>\n",
       "      <td>8145.35</td>\n",
       "      <td>8042.21</td>\n",
       "      <td>103.14</td>\n",
       "      <td>0.0</td>\n",
       "      <td>conventional</td>\n",
       "      <td>2015.0</td>\n",
       "      <td>Albany</td>\n",
       "    </tr>\n",
       "    <tr>\n",
       "      <th>3</th>\n",
       "      <td>06-12-2015</td>\n",
       "      <td>1.08</td>\n",
       "      <td>78992.15</td>\n",
       "      <td>1132.00</td>\n",
       "      <td>71976.41</td>\n",
       "      <td>72.58</td>\n",
       "      <td>5811.16</td>\n",
       "      <td>5677.40</td>\n",
       "      <td>133.76</td>\n",
       "      <td>0.0</td>\n",
       "      <td>conventional</td>\n",
       "      <td>2015.0</td>\n",
       "      <td>Albany</td>\n",
       "    </tr>\n",
       "    <tr>\n",
       "      <th>4</th>\n",
       "      <td>29-11-2015</td>\n",
       "      <td>1.28</td>\n",
       "      <td>51039.60</td>\n",
       "      <td>941.48</td>\n",
       "      <td>43838.39</td>\n",
       "      <td>75.78</td>\n",
       "      <td>6183.95</td>\n",
       "      <td>5986.26</td>\n",
       "      <td>197.69</td>\n",
       "      <td>0.0</td>\n",
       "      <td>conventional</td>\n",
       "      <td>2015.0</td>\n",
       "      <td>Albany</td>\n",
       "    </tr>\n",
       "  </tbody>\n",
       "</table>\n",
       "</div>"
      ],
      "text/plain": [
       "         Date  AveragePrice  Total Volume     4046       4225    4770  \\\n",
       "0  27-12-2015          1.33      64236.62  1036.74   54454.85   48.16   \n",
       "1  20-12-2015          1.35      54876.98   674.28   44638.81   58.33   \n",
       "2  13-12-2015          0.93     118220.22   794.70  109149.67  130.50   \n",
       "3  06-12-2015          1.08      78992.15  1132.00   71976.41   72.58   \n",
       "4  29-11-2015          1.28      51039.60   941.48   43838.39   75.78   \n",
       "\n",
       "   Total Bags  Small Bags  Large Bags  XLarge Bags          type    year  \\\n",
       "0     8696.87     8603.62       93.25          0.0  conventional  2015.0   \n",
       "1     9505.56     9408.07       97.49          0.0  conventional  2015.0   \n",
       "2     8145.35     8042.21      103.14          0.0  conventional  2015.0   \n",
       "3     5811.16     5677.40      133.76          0.0  conventional  2015.0   \n",
       "4     6183.95     5986.26      197.69          0.0  conventional  2015.0   \n",
       "\n",
       "   region  \n",
       "0  Albany  \n",
       "1  Albany  \n",
       "2  Albany  \n",
       "3  Albany  \n",
       "4  Albany  "
      ]
     },
     "execution_count": 38,
     "metadata": {},
     "output_type": "execute_result"
    }
   ],
   "source": [
    "df_exclude.head()"
   ]
  },
  {
   "cell_type": "code",
   "execution_count": 39,
   "id": "f5e6a9d1",
   "metadata": {},
   "outputs": [
    {
     "data": {
      "text/plain": [
       "(19766, 13)"
      ]
     },
     "execution_count": 39,
     "metadata": {},
     "output_type": "execute_result"
    }
   ],
   "source": [
    "df_exclude.shape"
   ]
  },
  {
   "cell_type": "code",
   "execution_count": 41,
   "id": "4d28c9c5",
   "metadata": {},
   "outputs": [
    {
     "data": {
      "text/plain": [
       "(19766, 13)"
      ]
     },
     "execution_count": 41,
     "metadata": {},
     "output_type": "execute_result"
    }
   ],
   "source": [
    "df.shape"
   ]
  },
  {
   "cell_type": "code",
   "execution_count": 42,
   "id": "4a4144a7",
   "metadata": {},
   "outputs": [],
   "source": [
    "# Outlier:\n",
    "\n"
   ]
  },
  {
   "cell_type": "code",
   "execution_count": 44,
   "id": "1ffb0e7f",
   "metadata": {},
   "outputs": [
    {
     "name": "stdout",
     "output_type": "stream",
     "text": [
      "Upper bound : 2.4549999999999996 Lower bound : 0.25500000000000034\n",
      "\n",
      "Outlier values :\n",
      " [0.49, 0.53, 0.56, 0.58, 0.56, 0.54, 0.53, 0.52, 0.56, 0.58, 0.53, 0.51, 0.57, 0.57, 0.56, 0.58, 0.49, 0.53, 0.56, 0.58, 0.56, 0.54, 0.53, 0.52, 0.56, 0.58, 0.53, 0.51, 0.57, 0.57, 0.56, 0.58, 0.54, 0.58, 0.58, 0.58, 0.58, 0.56, 0.58, 0.58, 0.55, 0.57, 0.54, 0.56, 0.54, 0.56, 0.51, 0.57, 0.55, 2.2, 0.56, 2.22, 2.19, 0.53, 0.58, 0.55, 0.53, 0.57, 0.51, 0.54, 0.53, 0.57, 0.54, 0.46, 0.58, 0.54, 0.52, 0.56, 0.58, 0.56, 0.58, 2.28, 2.35, 2.29, 2.24, 2.19, 2.19, 2.29, 2.29, 2.24, 2.32, 2.24, 2.34, 2.33, 2.31, 2.23, 2.27, 2.3, 2.41, 2.31, 2.36, 2.37, 2.33, 2.31, 2.39, 2.31, 2.42, 2.39, 2.45, 2.38, 2.4, 2.31, 2.4, 2.25, 2.34, 2.24, 2.36, 2.3, 2.31, 2.24, 2.27, 2.27, 2.26, 2.38, 2.37, 2.21, 2.35, 2.28, 2.32, 2.26, 2.31, 2.19, 2.21, 2.21, 2.22, 2.31, 2.4, 2.34, 2.25, 2.22, 2.24, 2.28, 2.3, 2.2, 2.24, 2.34, 2.31, 2.21, 2.21, 2.24, 2.21, 2.21, 2.58, 2.79, 2.66, 2.59, 2.74, 2.79, 2.73, 2.73, 2.77, 2.71, 2.73, 2.72, 2.76, 2.75, 2.36, 2.2, 2.23, 2.19, 2.25, 2.29, 2.2, 2.28, 2.24, 2.37, 2.49, 2.58, 2.3, 2.3, 2.25, 2.24, 2.23, 2.2, 2.26, 2.28, 2.22, 2.41, 2.36, 2.54, 2.42, 2.67, 2.3, 2.68, 2.57, 2.34, 2.33, 2.34, 2.33, 2.34, 2.36, 2.27, 2.34, 2.23, 2.19, 2.36, 2.19, 2.3, 2.39, 2.33, 2.33, 2.32, 2.31, 2.31, 2.27, 2.36, 2.36, 2.34, 2.4, 2.24, 2.2, 2.31, 2.33, 2.3, 2.28, 2.24, 2.31, 2.32, 2.27, 2.28, 2.21, 2.24, 2.76, 2.3, 2.85, 3.03, 2.91, 2.2, 2.27, 2.3, 2.25, 2.44, 2.22, 2.38, 2.65, 2.46, 2.25, 2.33, 2.3, 2.41, 2.34, 2.36, 2.32, 2.27, 2.37, 2.41, 2.32, 2.4, 2.33, 2.28, 2.23, 2.26, 2.2, 2.3, 2.45, 2.32, 2.39, 2.26, 2.23, 2.24, 2.2, 2.19, 2.35, 2.62, 2.22, 2.4, 2.62, 2.47, 2.19, 2.55, 2.25, 2.41, 2.36, 2.46, 2.52, 2.61, 2.54, 2.65, 2.82, 2.44, 2.23, 2.39, 2.33, 2.19, 2.19, 2.23, 2.19, 2.2, 2.19, 2.22, 2.51, 2.74, 2.73, 2.28, 2.22, 2.35, 2.56, 2.57, 2.67, 2.67, 2.88, 2.94, 2.99, 3.12, 3.25, 2.93, 2.34, 2.72, 2.64, 2.35, 2.39, 2.37, 2.38, 2.38, 2.37, 2.33, 2.29, 2.37, 2.3, 2.32, 2.31, 2.21, 2.31, 2.25, 2.3, 2.34, 2.34, 2.27, 2.21, 2.33, 2.33, 2.3, 2.23, 2.33, 2.27, 2.31, 2.29, 2.38, 2.37, 2.3, 2.28, 2.73, 2.24, 2.24, 2.19, 2.35, 2.89, 2.23, 2.26, 2.27, 2.51, 2.25, 2.32, 2.23, 2.2, 0.58, 2.29, 2.57, 2.27, 2.93, 2.35, 2.79, 2.83, 2.23, 2.55, 2.75, 2.56, 2.54, 2.59, 2.59, 2.59, 2.26, 2.2, 2.21, 2.2, 2.2, 2.33, 2.34, 2.41, 2.62, 2.78, 2.79, 2.64, 2.65, 2.63, 2.71, 2.75, 2.62, 2.32, 2.21, 2.21, 2.23, 2.26, 2.55, 2.57, 2.57, 2.54, 2.46, 2.51, 2.19, 2.19, 2.2, 2.54, 2.37, 2.21, 2.22, 2.38, 2.67, 2.82, 2.55, 2.77, 2.8, 2.82, 2.83, 2.48, 2.35, 2.36, 2.47, 2.5, 2.48, 2.21, 2.31, 2.53, 2.58, 2.2, 0.44, 0.49, 0.51, 0.57, 2.22, 0.52, 0.48, 0.57, 0.57, 2.19, 2.73, 2.62, 2.39, 2.33, 2.44, 2.34, 2.32, 2.21, 2.19, 2.23, 2.27, 2.19, 2.21, 2.21, 2.4, 2.19, 2.26, 2.67, 2.67, 2.61, 2.62, 2.5, 2.67, 2.62, 2.58, 2.51, 2.25, 2.49, 2.6, 2.42, 2.48, 2.57, 2.35, 2.43, 2.44, 2.43, 2.43, 2.44, 2.55, 2.31, 2.99, 2.57, 2.58, 2.35, 2.42, 2.45, 2.48, 2.25, 2.25, 2.23, 2.2, 2.22, 2.25, 2.24, 2.25, 2.39, 2.59, 2.64, 2.47, 2.43, 2.28, 2.32, 2.32, 2.37, 2.29, 2.21, 0.56, 0.56, 2.19, 2.62, 2.4, 2.36, 2.81, 2.32, 2.59, 3.05, 2.47, 2.43, 2.22, 2.24, 2.19, 0.51, 2.32, 2.19, 2.48, 2.44, 2.36, 2.39, 2.38, 2.39, 2.41, 2.34, 2.23, 2.22, 2.26, 2.31, 2.29, 2.26, 2.26, 2.29, 2.87, 2.27, 2.35, 2.31, 2.65, 2.45, 2.3, 2.21, 2.38, 2.83, 2.31, 2.2, 2.28, 2.36, 2.33, 2.22, 2.24, 2.22, 2.25, 2.29, 2.25, 2.23, 2.33, 2.19, 2.45, 2.49, 2.48, 2.71, 2.85, 2.86, 2.81, 2.83, 2.84, 2.84, 2.85, 2.57, 2.33, 2.29, 2.35, 2.33, 2.34, 2.32, 2.32, 2.29, 2.2, 2.53, 2.85, 3.0, 2.38, 2.92, 2.89, 2.97, 3.04, 2.65, 2.29, 2.51, 2.38, 2.55, 2.63, 2.44, 2.61, 2.76, 2.73, 2.24, 2.21, 2.19, 2.27, 2.49, 2.33, 2.19, 2.36, 2.32, 2.37, 2.48, 2.5, 2.43, 2.46, 2.4, 2.43, 2.52, 2.39, 2.29, 2.35, 2.37, 2.31, 2.44, 2.46, 2.36, 2.5, 2.32, 2.25, 2.31, 2.24, 2.25, 2.33, 2.27, 2.23, 2.39, 2.37, 2.57, 2.42, 2.32, 2.37, 2.37, 2.31, 2.3, 2.22, 2.27, 3.0, 2.93, 2.57, 2.33, 2.44, 2.4, 2.45, 2.59, 2.66, 2.76, 2.77, 2.72, 2.73, 2.65, 2.64, 2.54, 2.58, 2.56, 2.59, 2.54, 2.59, 2.83, 2.88, 2.9, 2.92, 2.52, 2.58, 2.59, 2.7, 2.7, 2.58, 2.54, 2.34, 2.43, 2.3, 2.69, 2.8, 2.86, 2.83, 2.86, 2.87, 2.89, 2.96, 2.87, 2.65, 2.58, 2.6, 2.61, 2.61, 2.35, 2.65, 2.26, 2.21, 2.29, 2.25, 2.33, 2.26, 2.2, 2.54, 2.48, 2.55, 2.74, 2.88, 2.95, 2.94, 2.86, 2.93, 2.84, 2.76, 2.55, 2.45, 2.38, 2.66, 2.55, 2.2, 2.56, 2.5, 2.34, 2.27, 2.36, 2.49, 2.71, 2.69, 2.81, 2.84, 2.64, 2.28, 2.22, 2.22, 2.25, 2.4, 2.44, 2.43, 2.42, 2.37, 2.23, 2.7, 3.17, 2.27, 2.56, 2.61, 2.37, 2.45, 2.4, 2.4, 2.46, 2.52, 2.51, 2.46, 2.24, 2.22, 2.39, 2.37, 2.26, 2.36, 2.38, 2.39, 2.5, 2.43, 2.25, 2.25, 2.22, 2.27, 2.3]\n"
     ]
    }
   ],
   "source": [
    "quantile = np.quantile(df.AveragePrice,[0.25,0.5,0.75,1]) # Use numpy quantile\n",
    "IQR = quantile[2] - quantile[0] # Calculate IQR through third quantile - first quantile\n",
    "upper = 1.5*IQR + quantile[2]\n",
    "lower = quantile[0] - 1.5*IQR\n",
    "\n",
    "print(\"Upper bound : {} Lower bound : {}\".format(upper,lower))\n",
    "\n",
    "outlier = [x for x in df.AveragePrice if x < lower or x>upper]\n",
    "print(\"\\nOutlier values :\\n {}\".format(outliers))"
   ]
  },
  {
   "cell_type": "code",
   "execution_count": 46,
   "id": "22ccb7a5",
   "metadata": {},
   "outputs": [
    {
     "data": {
      "text/html": [
       "<div>\n",
       "<style scoped>\n",
       "    .dataframe tbody tr th:only-of-type {\n",
       "        vertical-align: middle;\n",
       "    }\n",
       "\n",
       "    .dataframe tbody tr th {\n",
       "        vertical-align: top;\n",
       "    }\n",
       "\n",
       "    .dataframe thead th {\n",
       "        text-align: right;\n",
       "    }\n",
       "</style>\n",
       "<table border=\"1\" class=\"dataframe\">\n",
       "  <thead>\n",
       "    <tr style=\"text-align: right;\">\n",
       "      <th></th>\n",
       "      <th>Date</th>\n",
       "      <th>AveragePrice</th>\n",
       "      <th>Total Volume</th>\n",
       "      <th>4046</th>\n",
       "      <th>4225</th>\n",
       "      <th>4770</th>\n",
       "      <th>Total Bags</th>\n",
       "      <th>Small Bags</th>\n",
       "      <th>Large Bags</th>\n",
       "      <th>XLarge Bags</th>\n",
       "      <th>type</th>\n",
       "      <th>year</th>\n",
       "      <th>region</th>\n",
       "    </tr>\n",
       "  </thead>\n",
       "  <tbody>\n",
       "    <tr>\n",
       "      <th>0</th>\n",
       "      <td>27-12-2015</td>\n",
       "      <td>1.33</td>\n",
       "      <td>64236.62</td>\n",
       "      <td>1036.74</td>\n",
       "      <td>54454.85</td>\n",
       "      <td>48.16</td>\n",
       "      <td>8696.87</td>\n",
       "      <td>8603.62</td>\n",
       "      <td>93.25</td>\n",
       "      <td>0.0</td>\n",
       "      <td>conventional</td>\n",
       "      <td>2015.0</td>\n",
       "      <td>Albany</td>\n",
       "    </tr>\n",
       "    <tr>\n",
       "      <th>1</th>\n",
       "      <td>20-12-2015</td>\n",
       "      <td>1.35</td>\n",
       "      <td>54876.98</td>\n",
       "      <td>674.28</td>\n",
       "      <td>44638.81</td>\n",
       "      <td>58.33</td>\n",
       "      <td>9505.56</td>\n",
       "      <td>9408.07</td>\n",
       "      <td>97.49</td>\n",
       "      <td>0.0</td>\n",
       "      <td>conventional</td>\n",
       "      <td>2015.0</td>\n",
       "      <td>Albany</td>\n",
       "    </tr>\n",
       "    <tr>\n",
       "      <th>2</th>\n",
       "      <td>13-12-2015</td>\n",
       "      <td>0.93</td>\n",
       "      <td>118220.22</td>\n",
       "      <td>794.70</td>\n",
       "      <td>109149.67</td>\n",
       "      <td>130.50</td>\n",
       "      <td>8145.35</td>\n",
       "      <td>8042.21</td>\n",
       "      <td>103.14</td>\n",
       "      <td>0.0</td>\n",
       "      <td>conventional</td>\n",
       "      <td>2015.0</td>\n",
       "      <td>Albany</td>\n",
       "    </tr>\n",
       "    <tr>\n",
       "      <th>3</th>\n",
       "      <td>06-12-2015</td>\n",
       "      <td>1.08</td>\n",
       "      <td>78992.15</td>\n",
       "      <td>1132.00</td>\n",
       "      <td>71976.41</td>\n",
       "      <td>72.58</td>\n",
       "      <td>5811.16</td>\n",
       "      <td>5677.40</td>\n",
       "      <td>133.76</td>\n",
       "      <td>0.0</td>\n",
       "      <td>conventional</td>\n",
       "      <td>2015.0</td>\n",
       "      <td>Albany</td>\n",
       "    </tr>\n",
       "    <tr>\n",
       "      <th>4</th>\n",
       "      <td>29-11-2015</td>\n",
       "      <td>1.28</td>\n",
       "      <td>51039.60</td>\n",
       "      <td>941.48</td>\n",
       "      <td>43838.39</td>\n",
       "      <td>75.78</td>\n",
       "      <td>6183.95</td>\n",
       "      <td>5986.26</td>\n",
       "      <td>197.69</td>\n",
       "      <td>0.0</td>\n",
       "      <td>conventional</td>\n",
       "      <td>2015.0</td>\n",
       "      <td>Albany</td>\n",
       "    </tr>\n",
       "    <tr>\n",
       "      <th>...</th>\n",
       "      <td>...</td>\n",
       "      <td>...</td>\n",
       "      <td>...</td>\n",
       "      <td>...</td>\n",
       "      <td>...</td>\n",
       "      <td>...</td>\n",
       "      <td>...</td>\n",
       "      <td>...</td>\n",
       "      <td>...</td>\n",
       "      <td>...</td>\n",
       "      <td>...</td>\n",
       "      <td>...</td>\n",
       "      <td>...</td>\n",
       "    </tr>\n",
       "    <tr>\n",
       "      <th>34712</th>\n",
       "      <td>04-02-2018</td>\n",
       "      <td>1.63</td>\n",
       "      <td>17074.83</td>\n",
       "      <td>2046.96</td>\n",
       "      <td>1529.20</td>\n",
       "      <td>0.00</td>\n",
       "      <td>13498.67</td>\n",
       "      <td>13066.82</td>\n",
       "      <td>431.85</td>\n",
       "      <td>0.0</td>\n",
       "      <td>organic</td>\n",
       "      <td>2018.0</td>\n",
       "      <td>WestTexNewMexico</td>\n",
       "    </tr>\n",
       "    <tr>\n",
       "      <th>34713</th>\n",
       "      <td>28-01-2018</td>\n",
       "      <td>1.71</td>\n",
       "      <td>13888.04</td>\n",
       "      <td>1191.70</td>\n",
       "      <td>3431.50</td>\n",
       "      <td>0.00</td>\n",
       "      <td>9264.84</td>\n",
       "      <td>8940.04</td>\n",
       "      <td>324.80</td>\n",
       "      <td>0.0</td>\n",
       "      <td>organic</td>\n",
       "      <td>2018.0</td>\n",
       "      <td>WestTexNewMexico</td>\n",
       "    </tr>\n",
       "    <tr>\n",
       "      <th>34714</th>\n",
       "      <td>21-01-2018</td>\n",
       "      <td>1.87</td>\n",
       "      <td>13766.76</td>\n",
       "      <td>1191.92</td>\n",
       "      <td>2452.79</td>\n",
       "      <td>727.94</td>\n",
       "      <td>9394.11</td>\n",
       "      <td>9351.80</td>\n",
       "      <td>42.31</td>\n",
       "      <td>0.0</td>\n",
       "      <td>organic</td>\n",
       "      <td>2018.0</td>\n",
       "      <td>WestTexNewMexico</td>\n",
       "    </tr>\n",
       "    <tr>\n",
       "      <th>34715</th>\n",
       "      <td>14-01-2018</td>\n",
       "      <td>1.93</td>\n",
       "      <td>16205.22</td>\n",
       "      <td>1527.63</td>\n",
       "      <td>2981.04</td>\n",
       "      <td>727.01</td>\n",
       "      <td>10969.54</td>\n",
       "      <td>10919.54</td>\n",
       "      <td>50.00</td>\n",
       "      <td>0.0</td>\n",
       "      <td>organic</td>\n",
       "      <td>2018.0</td>\n",
       "      <td>WestTexNewMexico</td>\n",
       "    </tr>\n",
       "    <tr>\n",
       "      <th>34716</th>\n",
       "      <td>07-01-2018</td>\n",
       "      <td>1.62</td>\n",
       "      <td>17489.58</td>\n",
       "      <td>2894.77</td>\n",
       "      <td>2356.13</td>\n",
       "      <td>224.53</td>\n",
       "      <td>12014.15</td>\n",
       "      <td>11988.14</td>\n",
       "      <td>26.01</td>\n",
       "      <td>0.0</td>\n",
       "      <td>organic</td>\n",
       "      <td>2018.0</td>\n",
       "      <td>WestTexNewMexico</td>\n",
       "    </tr>\n",
       "  </tbody>\n",
       "</table>\n",
       "<p>19766 rows × 13 columns</p>\n",
       "</div>"
      ],
      "text/plain": [
       "             Date  AveragePrice  Total Volume     4046       4225    4770  \\\n",
       "0      27-12-2015          1.33      64236.62  1036.74   54454.85   48.16   \n",
       "1      20-12-2015          1.35      54876.98   674.28   44638.81   58.33   \n",
       "2      13-12-2015          0.93     118220.22   794.70  109149.67  130.50   \n",
       "3      06-12-2015          1.08      78992.15  1132.00   71976.41   72.58   \n",
       "4      29-11-2015          1.28      51039.60   941.48   43838.39   75.78   \n",
       "...           ...           ...           ...      ...        ...     ...   \n",
       "34712  04-02-2018          1.63      17074.83  2046.96    1529.20    0.00   \n",
       "34713  28-01-2018          1.71      13888.04  1191.70    3431.50    0.00   \n",
       "34714  21-01-2018          1.87      13766.76  1191.92    2452.79  727.94   \n",
       "34715  14-01-2018          1.93      16205.22  1527.63    2981.04  727.01   \n",
       "34716  07-01-2018          1.62      17489.58  2894.77    2356.13  224.53   \n",
       "\n",
       "       Total Bags  Small Bags  Large Bags  XLarge Bags          type    year  \\\n",
       "0         8696.87     8603.62       93.25          0.0  conventional  2015.0   \n",
       "1         9505.56     9408.07       97.49          0.0  conventional  2015.0   \n",
       "2         8145.35     8042.21      103.14          0.0  conventional  2015.0   \n",
       "3         5811.16     5677.40      133.76          0.0  conventional  2015.0   \n",
       "4         6183.95     5986.26      197.69          0.0  conventional  2015.0   \n",
       "...           ...         ...         ...          ...           ...     ...   \n",
       "34712    13498.67    13066.82      431.85          0.0       organic  2018.0   \n",
       "34713     9264.84     8940.04      324.80          0.0       organic  2018.0   \n",
       "34714     9394.11     9351.80       42.31          0.0       organic  2018.0   \n",
       "34715    10969.54    10919.54       50.00          0.0       organic  2018.0   \n",
       "34716    12014.15    11988.14       26.01          0.0       organic  2018.0   \n",
       "\n",
       "                 region  \n",
       "0                Albany  \n",
       "1                Albany  \n",
       "2                Albany  \n",
       "3                Albany  \n",
       "4                Albany  \n",
       "...                 ...  \n",
       "34712  WestTexNewMexico  \n",
       "34713  WestTexNewMexico  \n",
       "34714  WestTexNewMexico  \n",
       "34715  WestTexNewMexico  \n",
       "34716  WestTexNewMexico  \n",
       "\n",
       "[19766 rows x 13 columns]"
      ]
     },
     "execution_count": 46,
     "metadata": {},
     "output_type": "execute_result"
    }
   ],
   "source": [
    "df_exclude2 = df[(df.AveragePrice > lower) | (df.AveragePrice < upper)]\n",
    "df_exclude2"
   ]
  },
  {
   "cell_type": "code",
   "execution_count": 47,
   "id": "131c0840",
   "metadata": {},
   "outputs": [],
   "source": [
    "# Data Normalization"
   ]
  },
  {
   "cell_type": "code",
   "execution_count": 48,
   "id": "90f7b2b8",
   "metadata": {},
   "outputs": [],
   "source": [
    "# It is important to check whether data follow normal distribution before we do modeling There is one easy way to do normalization, use logarithmic scale"
   ]
  },
  {
   "cell_type": "code",
   "execution_count": 49,
   "id": "89233d00",
   "metadata": {},
   "outputs": [
    {
     "data": {
      "image/png": "[encoded data removed]",
      "text/plain": [
       "<Figure size 576x576 with 1 Axes>"
      ]
     },
     "metadata": {},
     "output_type": "display_data"
    }
   ],
   "source": [
    "log_data = np.log(df.AveragePrice+1)\n",
    "sns.set_style(\"white\")\n",
    "plt.figure(figsize=(8,8))\n",
    "sns.distplot(log_data);"
   ]
  },
  {
   "cell_type": "code",
   "execution_count": 50,
   "id": "2d25b0ca",
   "metadata": {},
   "outputs": [
    {
     "data": {
      "image/png": "[encoded data removed]",
      "text/plain": [
       "<Figure size 720x504 with 2 Axes>"
      ]
     },
     "metadata": {},
     "output_type": "display_data"
    }
   ],
   "source": [
    "fig,ax = plt.subplots(1,2,figsize=(10,7))\n",
    "sm.qqplot(df.AveragePrice,line=\"s\",ax=ax[0])\n",
    "ax[0].set_title(\"Before logarithmic\")\n",
    "sm.qqplot(log_data,line=\"s\",ax=ax[1])\n",
    "ax[1].set_title(\"After logarithmic\");"
   ]
  },
  {
   "cell_type": "code",
   "execution_count": 51,
   "id": "a13b9aca",
   "metadata": {},
   "outputs": [],
   "source": [
    "# Region wise data analysis"
   ]
  },
  {
   "cell_type": "code",
   "execution_count": 52,
   "id": "c9ae498e",
   "metadata": {},
   "outputs": [
    {
     "data": {
      "text/plain": [
       "54"
      ]
     },
     "execution_count": 52,
     "metadata": {},
     "output_type": "execute_result"
    }
   ],
   "source": [
    "len(df.region.unique())"
   ]
  },
  {
   "cell_type": "code",
   "execution_count": 53,
   "id": "852242c8",
   "metadata": {},
   "outputs": [
    {
     "data": {
      "text/plain": [
       "region\n",
       "Albany                 405\n",
       "Atlanta                392\n",
       "BaltimoreWashington    403\n",
       "Boise                  403\n",
       "Boston                 400\n",
       "BuffaloRochester       389\n",
       "California             414\n",
       "Charlotte              369\n",
       "Chicago                361\n",
       "CincinnatiDayton       338\n",
       "Columbus               385\n",
       "DallasFtWorth          355\n",
       "Denver                 362\n",
       "Detroit                378\n",
       "GrandRapids            361\n",
       "GreatLakes             356\n",
       "HarrisburgScranton     357\n",
       "HartfordSpringfield    351\n",
       "Houston                367\n",
       "Indianapolis           354\n",
       "Jacksonville           379\n",
       "LasVegas               348\n",
       "LosAngeles             341\n",
       "Louisville             372\n",
       "MiamiFtLauderdale      355\n",
       "Midsouth               356\n",
       "Nashville              363\n",
       "NewOrleansMobile       338\n",
       "NewYork                382\n",
       "Northeast              350\n",
       "NorthernNewEngland     367\n",
       "Orlando                359\n",
       "Philadelphia           351\n",
       "PhoenixTucson          390\n",
       "Pittsburgh             360\n",
       "Plains                 350\n",
       "Portland               368\n",
       "RaleighGreensboro      354\n",
       "RichmondNorfolk        359\n",
       "Roanoke                355\n",
       "Sacramento             338\n",
       "SanDiego               376\n",
       "SanFrancisco           353\n",
       "Seattle                347\n",
       "SouthCarolina          362\n",
       "SouthCentral           377\n",
       "Southeast              347\n",
       "Spokane                387\n",
       "StLouis                354\n",
       "Syracuse               357\n",
       "Tampa                  372\n",
       "TotalUS                363\n",
       "West                   374\n",
       "WestTexNewMexico       362\n",
       "dtype: int64"
      ]
     },
     "execution_count": 53,
     "metadata": {},
     "output_type": "execute_result"
    }
   ],
   "source": [
    "df.groupby('region').size() "
   ]
  },
  {
   "cell_type": "code",
   "execution_count": 54,
   "id": "843d0a7d",
   "metadata": {},
   "outputs": [],
   "source": [
    "# The average prices by regions"
   ]
  },
  {
   "cell_type": "code",
   "execution_count": 56,
   "id": "be2f18dc",
   "metadata": {},
   "outputs": [
    {
     "data": {
      "image/png": "[encoded data removed]",
      "text/plain": [
       "<Figure size 864x360 with 1 Axes>"
      ]
     },
     "metadata": {},
     "output_type": "display_data"
    }
   ],
   "source": [
    "plt.figure(figsize=(12,5))\n",
    "plt.title(\"Distribution Price\")\n",
    "ax = sns.distplot(df[\"AveragePrice\"], color = 'r')"
   ]
  },
  {
   "cell_type": "code",
   "execution_count": 57,
   "id": "3b9c5cac",
   "metadata": {},
   "outputs": [
    {
     "data": {
      "image/png": "[encoded data removed]",
      "text/plain": [
       "<Figure size 432x288 with 1 Axes>"
      ]
     },
     "metadata": {},
     "output_type": "display_data"
    }
   ],
   "source": [
    "sns.boxplot(y=\"type\", x=\"AveragePrice\", data=df, palette = 'pink');"
   ]
  },
  {
   "cell_type": "code",
   "execution_count": 61,
   "id": "77270ba9",
   "metadata": {},
   "outputs": [
    {
     "data": {
      "image/png": "[encoded data removed]",
      "text/plain": [
       "<Figure size 720x360 with 1 Axes>"
      ]
     },
     "metadata": {},
     "output_type": "display_data"
    }
   ],
   "source": [
    "#Weight distribution of prices\n",
    "fig, ax = plt.subplots()\n",
    "fig.set_size_inches(10,5)\n",
    "sns.histplot(df.dropna(subset = ['AveragePrice']).AveragePrice);"
   ]
  },
  {
   "cell_type": "code",
   "execution_count": 62,
   "id": "5d742a8c",
   "metadata": {},
   "outputs": [
    {
     "data": {
      "image/png": "[encoded data removed]",
      "text/plain": [
       "<Figure size 1080x1080 with 1 Axes>"
      ]
     },
     "metadata": {},
     "output_type": "display_data"
    }
   ],
   "source": [
    "plt.figure(figsize=(15,15))\n",
    "\n",
    "plt.title(\"Avgerage Price of Avocado by Region\")\n",
    "\n",
    "sns.barplot(x=\"AveragePrice\",y=\"region\",data=df)\n",
    "\n",
    "plt.show()"
   ]
  },
  {
   "cell_type": "code",
   "execution_count": 64,
   "id": "425c3792",
   "metadata": {},
   "outputs": [],
   "source": [
    "# observations - the cities with highest selling with average price -sanfrancisco,seattle,hartfordspringfield etc"
   ]
  },
  {
   "cell_type": "code",
   "execution_count": 65,
   "id": "0465f65e",
   "metadata": {},
   "outputs": [
    {
     "data": {
      "image/png": "[encoded data removed]",
      "text/plain": [
       "<Figure size 1296x360 with 2 Axes>"
      ]
     },
     "metadata": {},
     "output_type": "display_data"
    },
    {
     "name": "stdout",
     "output_type": "stream",
     "text": [
      "the most expensive datacados can be found in ['HartfordSpringfield', 'SanFrancisco', 'NewYork', 'Sacramento', 'Philadelphia'] \n",
      "the cheapest datacados can be found in ['Houston', 'DallasFtWorth', 'SouthCentral', 'PhoenixTucson', 'Nashville'] \n"
     ]
    }
   ],
   "source": [
    "fig, ax = plt.subplots(1, 2, figsize=(18,5))\n",
    "\n",
    "regionP = df.groupby('region')['AveragePrice'].mean()\n",
    "\n",
    "expensive = regionP.sort_values(ascending = False).iloc[:10]\n",
    "cheap = regionP.sort_values().iloc[:10]\n",
    "\n",
    "sns.barplot(x='AveragePrice', y='region', data = df, order=expensive.index, ci=None, palette='Greens_r', ax=ax[0])\n",
    "sns.barplot(x='AveragePrice', y='region', data = df, order=cheap.index, ci=None, palette='Greens_r', ax=ax[1])\n",
    "\n",
    "plt.show()\n",
    "\n",
    "cheap = pd.DataFrame(cheap).reset_index()\n",
    "expensive = pd.DataFrame(expensive).reset_index()\n",
    "\n",
    "print('the most expensive datacados can be found in {} '.format(list(expensive.iloc[:5,0])))\n",
    "print('the cheapest datacados can be found in {} '.format(list(cheap.iloc[:5,0])))"
   ]
  },
  {
   "cell_type": "code",
   "execution_count": 66,
   "id": "559d94a8",
   "metadata": {},
   "outputs": [
    {
     "data": {
      "image/png": "[encoded data removed]",
      "text/plain": [
       "<Figure size 1296x360 with 2 Axes>"
      ]
     },
     "metadata": {},
     "output_type": "display_data"
    },
    {
     "name": "stdout",
     "output_type": "stream",
     "text": [
      "States with the the biggest demand are ['California', 'West', 'SouthCentral', 'Northeast', 'GreatLakes'] \n",
      "States with the least demand are ['Syracuse', 'Louisville', 'Spokane', 'Boise', 'Pittsburgh'] \n"
     ]
    }
   ],
   "source": [
    "fig, ax = plt.subplots(1, 2, figsize=(18,5))\n",
    "\n",
    "dataStates = df[df['region'] !='TotalUS']\n",
    "\n",
    "regionV = dataStates.groupby('region')['Total Volume'].sum()\n",
    "\n",
    "most = regionV.sort_values(ascending = False).iloc[:10]\n",
    "least = regionV.sort_values().iloc[:10]\n",
    "\n",
    "sns.barplot(x='Total Volume', y='region', data = dataStates, order=most.index, ci=None, palette='Greens_r', ax=ax[0])\n",
    "sns.barplot(x='Total Volume', y='region', data = dataStates, order=least.index, ci=None, palette='Greens_r', ax=ax[1])\n",
    "\n",
    "plt.show()\n",
    "\n",
    "most = pd.DataFrame(most).reset_index()\n",
    "least = pd.DataFrame(least).reset_index()\n",
    "\n",
    "print('States with the the biggest demand are {} '.format(list(most.iloc[:5,0])))\n",
    "print('States with the least demand are {} '.format(list(least.iloc[:5,0])))"
   ]
  },
  {
   "cell_type": "code",
   "execution_count": 69,
   "id": "267081d1",
   "metadata": {},
   "outputs": [
    {
     "name": "stdout",
     "output_type": "stream",
     "text": [
      "2\n"
     ]
    },
    {
     "data": {
      "text/plain": [
       "type\n",
       "conventional    10643\n",
       "organic          9123\n",
       "dtype: int64"
      ]
     },
     "execution_count": 69,
     "metadata": {},
     "output_type": "execute_result"
    }
   ],
   "source": [
    "print(len(df.type.unique()))\n",
    "\n",
    "df.groupby('type').size()\n"
   ]
  },
  {
   "cell_type": "code",
   "execution_count": 70,
   "id": "692005b1",
   "metadata": {},
   "outputs": [],
   "source": [
    "# The average prices of avocados by types"
   ]
  },
  {
   "cell_type": "code",
   "execution_count": 71,
   "id": "528e1a62",
   "metadata": {},
   "outputs": [
    {
     "data": {
      "image/png": "[encoded data removed]",
      "text/plain": [
       "<Figure size 360x504 with 1 Axes>"
      ]
     },
     "metadata": {},
     "output_type": "display_data"
    }
   ],
   "source": [
    "plt.figure(figsize=(5,7))\n",
    "\n",
    "plt.title(\"Avg.Price of Avocados by Type\")\n",
    "\n",
    "sns.barplot(x=\"type\",y=\"AveragePrice\",data= df)\n",
    "\n",
    "plt.show()"
   ]
  },
  {
   "cell_type": "code",
   "execution_count": 72,
   "id": "a4e15cff",
   "metadata": {},
   "outputs": [
    {
     "data": {
      "image/png": "[encoded data removed]",
      "text/plain": [
       "<Figure size 864x432 with 2 Axes>"
      ]
     },
     "metadata": {},
     "output_type": "display_data"
    }
   ],
   "source": [
    "plt.figure(figsize=(12,6))\n",
    "sns.heatmap(df.corr(),cmap='coolwarm',annot=True);"
   ]
  },
  {
   "cell_type": "code",
   "execution_count": 73,
   "id": "856a3431",
   "metadata": {},
   "outputs": [],
   "source": [
    "# observations- 1. There is a high correlation between pairs , 4046 & total volume (0.98) 4225 & total volume (0.97) 4770 & total volume (0.87) total bags & total volume (0.96) small bags & total bags (0.99) etc"
   ]
  },
  {
   "cell_type": "code",
   "execution_count": 76,
   "id": "64b5d567",
   "metadata": {},
   "outputs": [],
   "source": [
    "from sklearn.preprocessing import LabelEncoder\n",
    "label = LabelEncoder()\n",
    "dicts = {}\n",
    "\n",
    "label.fit(df.type.drop_duplicates()) \n",
    "dicts['type'] = list(label.classes_)\n",
    "df.type = label.transform(df.type) "
   ]
  },
  {
   "cell_type": "code",
   "execution_count": 77,
   "id": "50734f1f",
   "metadata": {},
   "outputs": [
    {
     "data": {
      "image/png": "[encoded data removed]",
      "text/plain": [
       "<Figure size 432x288 with 2 Axes>"
      ]
     },
     "metadata": {},
     "output_type": "display_data"
    }
   ],
   "source": [
    "cols = ['AveragePrice','type','year','Total Volume','Total Bags']\n",
    "cm = np.corrcoef(df[cols].values.T)\n",
    "sns.set(font_scale = 1.7)\n",
    "hm = sns.heatmap(cm,cbar = True, annot = True,square = True, fmt = '.2f', annot_kws = {'size':15}, yticklabels = cols, xticklabels = cols)"
   ]
  },
  {
   "cell_type": "code",
   "execution_count": 78,
   "id": "1a88a998",
   "metadata": {},
   "outputs": [],
   "source": [
    "# observation - The price of avocado is influenced by the type"
   ]
  },
  {
   "cell_type": "code",
   "execution_count": 79,
   "id": "f44a9baa",
   "metadata": {},
   "outputs": [],
   "source": [
    "# Specifying dependent and independent variables\n",
    "\n",
    "X = df[['4046', '4225', '4770', 'Small Bags', 'Large Bags', 'XLarge Bags', 'type', 'year', 'region']]\n",
    "Y = df['AveragePrice']\n",
    "y=np.log1p(Y)"
   ]
  },
  {
   "cell_type": "code",
   "execution_count": 80,
   "id": "fcb8e6d8",
   "metadata": {},
   "outputs": [
    {
     "data": {
      "text/html": [
       "<div>\n",
       "<style scoped>\n",
       "    .dataframe tbody tr th:only-of-type {\n",
       "        vertical-align: middle;\n",
       "    }\n",
       "\n",
       "    .dataframe tbody tr th {\n",
       "        vertical-align: top;\n",
       "    }\n",
       "\n",
       "    .dataframe thead th {\n",
       "        text-align: right;\n",
       "    }\n",
       "</style>\n",
       "<table border=\"1\" class=\"dataframe\">\n",
       "  <thead>\n",
       "    <tr style=\"text-align: right;\">\n",
       "      <th></th>\n",
       "      <th>4046</th>\n",
       "      <th>4225</th>\n",
       "      <th>4770</th>\n",
       "      <th>Small Bags</th>\n",
       "      <th>Large Bags</th>\n",
       "      <th>XLarge Bags</th>\n",
       "      <th>type</th>\n",
       "      <th>year</th>\n",
       "      <th>region</th>\n",
       "    </tr>\n",
       "  </thead>\n",
       "  <tbody>\n",
       "    <tr>\n",
       "      <th>0</th>\n",
       "      <td>1036.74</td>\n",
       "      <td>54454.85</td>\n",
       "      <td>48.16</td>\n",
       "      <td>8603.62</td>\n",
       "      <td>93.25</td>\n",
       "      <td>0.0</td>\n",
       "      <td>0</td>\n",
       "      <td>2015.0</td>\n",
       "      <td>Albany</td>\n",
       "    </tr>\n",
       "    <tr>\n",
       "      <th>1</th>\n",
       "      <td>674.28</td>\n",
       "      <td>44638.81</td>\n",
       "      <td>58.33</td>\n",
       "      <td>9408.07</td>\n",
       "      <td>97.49</td>\n",
       "      <td>0.0</td>\n",
       "      <td>0</td>\n",
       "      <td>2015.0</td>\n",
       "      <td>Albany</td>\n",
       "    </tr>\n",
       "    <tr>\n",
       "      <th>2</th>\n",
       "      <td>794.70</td>\n",
       "      <td>109149.67</td>\n",
       "      <td>130.50</td>\n",
       "      <td>8042.21</td>\n",
       "      <td>103.14</td>\n",
       "      <td>0.0</td>\n",
       "      <td>0</td>\n",
       "      <td>2015.0</td>\n",
       "      <td>Albany</td>\n",
       "    </tr>\n",
       "    <tr>\n",
       "      <th>3</th>\n",
       "      <td>1132.00</td>\n",
       "      <td>71976.41</td>\n",
       "      <td>72.58</td>\n",
       "      <td>5677.40</td>\n",
       "      <td>133.76</td>\n",
       "      <td>0.0</td>\n",
       "      <td>0</td>\n",
       "      <td>2015.0</td>\n",
       "      <td>Albany</td>\n",
       "    </tr>\n",
       "    <tr>\n",
       "      <th>4</th>\n",
       "      <td>941.48</td>\n",
       "      <td>43838.39</td>\n",
       "      <td>75.78</td>\n",
       "      <td>5986.26</td>\n",
       "      <td>197.69</td>\n",
       "      <td>0.0</td>\n",
       "      <td>0</td>\n",
       "      <td>2015.0</td>\n",
       "      <td>Albany</td>\n",
       "    </tr>\n",
       "  </tbody>\n",
       "</table>\n",
       "</div>"
      ],
      "text/plain": [
       "      4046       4225    4770  Small Bags  Large Bags  XLarge Bags  type  \\\n",
       "0  1036.74   54454.85   48.16     8603.62       93.25          0.0     0   \n",
       "1   674.28   44638.81   58.33     9408.07       97.49          0.0     0   \n",
       "2   794.70  109149.67  130.50     8042.21      103.14          0.0     0   \n",
       "3  1132.00   71976.41   72.58     5677.40      133.76          0.0     0   \n",
       "4   941.48   43838.39   75.78     5986.26      197.69          0.0     0   \n",
       "\n",
       "     year  region  \n",
       "0  2015.0  Albany  \n",
       "1  2015.0  Albany  \n",
       "2  2015.0  Albany  \n",
       "3  2015.0  Albany  \n",
       "4  2015.0  Albany  "
      ]
     },
     "execution_count": 80,
     "metadata": {},
     "output_type": "execute_result"
    }
   ],
   "source": [
    "X.head()"
   ]
  },
  {
   "cell_type": "code",
   "execution_count": 81,
   "id": "77632b01",
   "metadata": {},
   "outputs": [
    {
     "data": {
      "text/plain": [
       "0    1.33\n",
       "1    1.35\n",
       "2    0.93\n",
       "3    1.08\n",
       "4    1.28\n",
       "Name: AveragePrice, dtype: float64"
      ]
     },
     "execution_count": 81,
     "metadata": {},
     "output_type": "execute_result"
    }
   ],
   "source": [
    "Y.head()"
   ]
  },
  {
   "cell_type": "code",
   "execution_count": 82,
   "id": "c71fa933",
   "metadata": {},
   "outputs": [],
   "source": [
    "# Labeling the categorical variables"
   ]
  },
  {
   "cell_type": "code",
   "execution_count": 83,
   "id": "68c00a51",
   "metadata": {},
   "outputs": [
    {
     "data": {
      "text/html": [
       "<div>\n",
       "<style scoped>\n",
       "    .dataframe tbody tr th:only-of-type {\n",
       "        vertical-align: middle;\n",
       "    }\n",
       "\n",
       "    .dataframe tbody tr th {\n",
       "        vertical-align: top;\n",
       "    }\n",
       "\n",
       "    .dataframe thead th {\n",
       "        text-align: right;\n",
       "    }\n",
       "</style>\n",
       "<table border=\"1\" class=\"dataframe\">\n",
       "  <thead>\n",
       "    <tr style=\"text-align: right;\">\n",
       "      <th></th>\n",
       "      <th>4046</th>\n",
       "      <th>4225</th>\n",
       "      <th>4770</th>\n",
       "      <th>Small Bags</th>\n",
       "      <th>Large Bags</th>\n",
       "      <th>XLarge Bags</th>\n",
       "      <th>year</th>\n",
       "      <th>type_1</th>\n",
       "      <th>region_Atlanta</th>\n",
       "      <th>region_BaltimoreWashington</th>\n",
       "      <th>...</th>\n",
       "      <th>region_SouthCarolina</th>\n",
       "      <th>region_SouthCentral</th>\n",
       "      <th>region_Southeast</th>\n",
       "      <th>region_Spokane</th>\n",
       "      <th>region_StLouis</th>\n",
       "      <th>region_Syracuse</th>\n",
       "      <th>region_Tampa</th>\n",
       "      <th>region_TotalUS</th>\n",
       "      <th>region_West</th>\n",
       "      <th>region_WestTexNewMexico</th>\n",
       "    </tr>\n",
       "  </thead>\n",
       "  <tbody>\n",
       "    <tr>\n",
       "      <th>0</th>\n",
       "      <td>1036.74</td>\n",
       "      <td>54454.85</td>\n",
       "      <td>48.16</td>\n",
       "      <td>8603.62</td>\n",
       "      <td>93.25</td>\n",
       "      <td>0.0</td>\n",
       "      <td>2015.0</td>\n",
       "      <td>0</td>\n",
       "      <td>0</td>\n",
       "      <td>0</td>\n",
       "      <td>...</td>\n",
       "      <td>0</td>\n",
       "      <td>0</td>\n",
       "      <td>0</td>\n",
       "      <td>0</td>\n",
       "      <td>0</td>\n",
       "      <td>0</td>\n",
       "      <td>0</td>\n",
       "      <td>0</td>\n",
       "      <td>0</td>\n",
       "      <td>0</td>\n",
       "    </tr>\n",
       "    <tr>\n",
       "      <th>1</th>\n",
       "      <td>674.28</td>\n",
       "      <td>44638.81</td>\n",
       "      <td>58.33</td>\n",
       "      <td>9408.07</td>\n",
       "      <td>97.49</td>\n",
       "      <td>0.0</td>\n",
       "      <td>2015.0</td>\n",
       "      <td>0</td>\n",
       "      <td>0</td>\n",
       "      <td>0</td>\n",
       "      <td>...</td>\n",
       "      <td>0</td>\n",
       "      <td>0</td>\n",
       "      <td>0</td>\n",
       "      <td>0</td>\n",
       "      <td>0</td>\n",
       "      <td>0</td>\n",
       "      <td>0</td>\n",
       "      <td>0</td>\n",
       "      <td>0</td>\n",
       "      <td>0</td>\n",
       "    </tr>\n",
       "    <tr>\n",
       "      <th>2</th>\n",
       "      <td>794.70</td>\n",
       "      <td>109149.67</td>\n",
       "      <td>130.50</td>\n",
       "      <td>8042.21</td>\n",
       "      <td>103.14</td>\n",
       "      <td>0.0</td>\n",
       "      <td>2015.0</td>\n",
       "      <td>0</td>\n",
       "      <td>0</td>\n",
       "      <td>0</td>\n",
       "      <td>...</td>\n",
       "      <td>0</td>\n",
       "      <td>0</td>\n",
       "      <td>0</td>\n",
       "      <td>0</td>\n",
       "      <td>0</td>\n",
       "      <td>0</td>\n",
       "      <td>0</td>\n",
       "      <td>0</td>\n",
       "      <td>0</td>\n",
       "      <td>0</td>\n",
       "    </tr>\n",
       "    <tr>\n",
       "      <th>3</th>\n",
       "      <td>1132.00</td>\n",
       "      <td>71976.41</td>\n",
       "      <td>72.58</td>\n",
       "      <td>5677.40</td>\n",
       "      <td>133.76</td>\n",
       "      <td>0.0</td>\n",
       "      <td>2015.0</td>\n",
       "      <td>0</td>\n",
       "      <td>0</td>\n",
       "      <td>0</td>\n",
       "      <td>...</td>\n",
       "      <td>0</td>\n",
       "      <td>0</td>\n",
       "      <td>0</td>\n",
       "      <td>0</td>\n",
       "      <td>0</td>\n",
       "      <td>0</td>\n",
       "      <td>0</td>\n",
       "      <td>0</td>\n",
       "      <td>0</td>\n",
       "      <td>0</td>\n",
       "    </tr>\n",
       "    <tr>\n",
       "      <th>4</th>\n",
       "      <td>941.48</td>\n",
       "      <td>43838.39</td>\n",
       "      <td>75.78</td>\n",
       "      <td>5986.26</td>\n",
       "      <td>197.69</td>\n",
       "      <td>0.0</td>\n",
       "      <td>2015.0</td>\n",
       "      <td>0</td>\n",
       "      <td>0</td>\n",
       "      <td>0</td>\n",
       "      <td>...</td>\n",
       "      <td>0</td>\n",
       "      <td>0</td>\n",
       "      <td>0</td>\n",
       "      <td>0</td>\n",
       "      <td>0</td>\n",
       "      <td>0</td>\n",
       "      <td>0</td>\n",
       "      <td>0</td>\n",
       "      <td>0</td>\n",
       "      <td>0</td>\n",
       "    </tr>\n",
       "  </tbody>\n",
       "</table>\n",
       "<p>5 rows × 61 columns</p>\n",
       "</div>"
      ],
      "text/plain": [
       "      4046       4225    4770  Small Bags  Large Bags  XLarge Bags    year  \\\n",
       "0  1036.74   54454.85   48.16     8603.62       93.25          0.0  2015.0   \n",
       "1   674.28   44638.81   58.33     9408.07       97.49          0.0  2015.0   \n",
       "2   794.70  109149.67  130.50     8042.21      103.14          0.0  2015.0   \n",
       "3  1132.00   71976.41   72.58     5677.40      133.76          0.0  2015.0   \n",
       "4   941.48   43838.39   75.78     5986.26      197.69          0.0  2015.0   \n",
       "\n",
       "   type_1  region_Atlanta  region_BaltimoreWashington  ...  \\\n",
       "0       0               0                           0  ...   \n",
       "1       0               0                           0  ...   \n",
       "2       0               0                           0  ...   \n",
       "3       0               0                           0  ...   \n",
       "4       0               0                           0  ...   \n",
       "\n",
       "   region_SouthCarolina  region_SouthCentral  region_Southeast  \\\n",
       "0                     0                    0                 0   \n",
       "1                     0                    0                 0   \n",
       "2                     0                    0                 0   \n",
       "3                     0                    0                 0   \n",
       "4                     0                    0                 0   \n",
       "\n",
       "   region_Spokane  region_StLouis  region_Syracuse  region_Tampa  \\\n",
       "0               0               0                0             0   \n",
       "1               0               0                0             0   \n",
       "2               0               0                0             0   \n",
       "3               0               0                0             0   \n",
       "4               0               0                0             0   \n",
       "\n",
       "   region_TotalUS  region_West  region_WestTexNewMexico  \n",
       "0               0            0                        0  \n",
       "1               0            0                        0  \n",
       "2               0            0                        0  \n",
       "3               0            0                        0  \n",
       "4               0            0                        0  \n",
       "\n",
       "[5 rows x 61 columns]"
      ]
     },
     "execution_count": 83,
     "metadata": {},
     "output_type": "execute_result"
    }
   ],
   "source": [
    "# X_labelled = pd.get_dummies(X[[\"type\",\"region\"]], drop_first = True)\n",
    "# X_labelled.head()\n",
    "\n",
    "X = pd.get_dummies(X, prefix=[\"type\",\"region\"], columns=[\"type\",\"region\"], drop_first = True)\n",
    "X.head()"
   ]
  },
  {
   "cell_type": "code",
   "execution_count": 84,
   "id": "e3f4b905",
   "metadata": {},
   "outputs": [
    {
     "name": "stdout",
     "output_type": "stream",
     "text": [
      "Index(['4046', '4225', '4770', 'Small Bags', 'Large Bags', 'XLarge Bags',\n",
      "       'year', 'type_1', 'region_Atlanta', 'region_BaltimoreWashington',\n",
      "       'region_Boise', 'region_Boston', 'region_BuffaloRochester',\n",
      "       'region_California', 'region_Charlotte', 'region_Chicago',\n",
      "       'region_CincinnatiDayton', 'region_Columbus', 'region_DallasFtWorth',\n",
      "       'region_Denver', 'region_Detroit', 'region_GrandRapids',\n",
      "       'region_GreatLakes', 'region_HarrisburgScranton',\n",
      "       'region_HartfordSpringfield', 'region_Houston', 'region_Indianapolis',\n",
      "       'region_Jacksonville', 'region_LasVegas', 'region_LosAngeles',\n",
      "       'region_Louisville', 'region_MiamiFtLauderdale', 'region_Midsouth',\n",
      "       'region_Nashville', 'region_NewOrleansMobile', 'region_NewYork',\n",
      "       'region_Northeast', 'region_NorthernNewEngland', 'region_Orlando',\n",
      "       'region_Philadelphia', 'region_PhoenixTucson', 'region_Pittsburgh',\n",
      "       'region_Plains', 'region_Portland', 'region_RaleighGreensboro',\n",
      "       'region_RichmondNorfolk', 'region_Roanoke', 'region_Sacramento',\n",
      "       'region_SanDiego', 'region_SanFrancisco', 'region_Seattle',\n",
      "       'region_SouthCarolina', 'region_SouthCentral', 'region_Southeast',\n",
      "       'region_Spokane', 'region_StLouis', 'region_Syracuse', 'region_Tampa',\n",
      "       'region_TotalUS', 'region_West', 'region_WestTexNewMexico'],\n",
      "      dtype='object')\n"
     ]
    }
   ],
   "source": [
    "print(X.columns)"
   ]
  },
  {
   "cell_type": "code",
   "execution_count": 85,
   "id": "9e6505d5",
   "metadata": {},
   "outputs": [],
   "source": [
    "# Train test "
   ]
  },
  {
   "cell_type": "code",
   "execution_count": 86,
   "id": "686fa834",
   "metadata": {},
   "outputs": [
    {
     "data": {
      "text/plain": [
       "((13836, 61), (5930, 61), (13836,), (5930,))"
      ]
     },
     "execution_count": 86,
     "metadata": {},
     "output_type": "execute_result"
    }
   ],
   "source": [
    "X_train, X_valid, y_train, y_valid = train_test_split(X, Y, test_size = 0.3, random_state = 99)\n",
    "X_train.shape, X_valid.shape, y_train.shape, y_valid.shape"
   ]
  },
  {
   "cell_type": "code",
   "execution_count": 87,
   "id": "bcb65a2a",
   "metadata": {},
   "outputs": [],
   "source": [
    "# Training the Model"
   ]
  },
  {
   "cell_type": "code",
   "execution_count": 88,
   "id": "f292e3d7",
   "metadata": {},
   "outputs": [],
   "source": [
    "# Multiple Linear Regression"
   ]
  },
  {
   "cell_type": "code",
   "execution_count": 89,
   "id": "a23857fe",
   "metadata": {},
   "outputs": [
    {
     "name": "stdout",
     "output_type": "stream",
     "text": [
      "R2 of Linear Regresson: 0.5750994108349925\n",
      "----- Prediction Accuracy-----\n",
      "MAE:  0.19236030533773682\n",
      "MSE:  0.06689210608327972\n",
      "RMSE: 0.2586350828547429\n"
     ]
    }
   ],
   "source": [
    "lr = LinearRegression()\n",
    "lr.fit(X_train,y_train)\n",
    "\n",
    "print(\"R2 of Linear Regresson:\", lr.score(X_train,y_train) )\n",
    "print(\"----- Prediction Accuracy-----\")\n",
    "print('MAE: ',metrics.mean_absolute_error(y_valid, lr.predict(X_valid)))\n",
    "print('MSE: ',metrics.mean_squared_error(y_valid, lr.predict(X_valid)))\n",
    "print('RMSE:',np.sqrt(metrics.mean_squared_error(y_valid, lr.predict(X_valid))))"
   ]
  },
  {
   "cell_type": "code",
   "execution_count": 90,
   "id": "dbddea88",
   "metadata": {},
   "outputs": [
    {
     "data": {
      "image/png": "[encoded data removed]",
      "text/plain": [
       "<Figure size 432x288 with 1 Axes>"
      ]
     },
     "metadata": {},
     "output_type": "display_data"
    }
   ],
   "source": [
    "# Creating a Histogram of Residuals\n",
    "plt.figure(figsize=(6,4))\n",
    "sns.distplot(y_valid - lr.predict(X_valid))\n",
    "plt.title('Distribution of residuals')\n",
    "plt.show()"
   ]
  },
  {
   "cell_type": "code",
   "execution_count": 91,
   "id": "34ee7513",
   "metadata": {},
   "outputs": [
    {
     "data": {
      "image/png": "[encoded data removed]",
      "text/plain": [
       "<Figure size 432x288 with 1 Axes>"
      ]
     },
     "metadata": {},
     "output_type": "display_data"
    }
   ],
   "source": [
    "plt.scatter(y_valid,lr.predict(X_valid));"
   ]
  },
  {
   "cell_type": "code",
   "execution_count": 92,
   "id": "206a098d",
   "metadata": {},
   "outputs": [
    {
     "name": "stdout",
     "output_type": "stream",
     "text": [
      "RMSE value of the Linear Regr :  0.2586\n"
     ]
    }
   ],
   "source": [
    "# Linear Regression RMSE : \n",
    "print('RMSE value of the Linear Regr : ',round(np.sqrt(metrics.mean_squared_error(y_valid, lr.predict(X_valid))),4))\n"
   ]
  },
  {
   "cell_type": "code",
   "execution_count": 93,
   "id": "f093d24e",
   "metadata": {},
   "outputs": [],
   "source": [
    "X_train,X_test,y_train,y_test=train_test_split(X,y,test_size=0.2,random_state=0)"
   ]
  },
  {
   "cell_type": "code",
   "execution_count": 94,
   "id": "d2d71c7f",
   "metadata": {},
   "outputs": [
    {
     "name": "stdout",
     "output_type": "stream",
     "text": [
      "shape of X and y respectively(train) : (15812, 61) (15812,)\n",
      "shape of X and y respectively(test) : (3954, 61) (3954,)\n"
     ]
    }
   ],
   "source": [
    "print('shape of X and y respectively(train) :',X_train.shape,y_train.shape)\n",
    "print('shape of X and y respectively(test) :',X_test.shape,y_test.shape)"
   ]
  },
  {
   "cell_type": "code",
   "execution_count": 99,
   "id": "c13c6d94",
   "metadata": {},
   "outputs": [],
   "source": [
    "# Decision-Tree"
   ]
  },
  {
   "cell_type": "code",
   "execution_count": 101,
   "id": "6d893292",
   "metadata": {},
   "outputs": [
    {
     "data": {
      "text/html": [
       "<div>\n",
       "<style scoped>\n",
       "    .dataframe tbody tr th:only-of-type {\n",
       "        vertical-align: middle;\n",
       "    }\n",
       "\n",
       "    .dataframe tbody tr th {\n",
       "        vertical-align: top;\n",
       "    }\n",
       "\n",
       "    .dataframe thead th {\n",
       "        text-align: right;\n",
       "    }\n",
       "</style>\n",
       "<table border=\"1\" class=\"dataframe\">\n",
       "  <thead>\n",
       "    <tr style=\"text-align: right;\">\n",
       "      <th></th>\n",
       "      <th>year</th>\n",
       "      <th>Small Bags</th>\n",
       "      <th>Large Bags</th>\n",
       "      <th>AveragePrice</th>\n",
       "    </tr>\n",
       "  </thead>\n",
       "  <tbody>\n",
       "    <tr>\n",
       "      <th>18997</th>\n",
       "      <td>2015.0</td>\n",
       "      <td>59620.93</td>\n",
       "      <td>0.00</td>\n",
       "      <td>1.25</td>\n",
       "    </tr>\n",
       "    <tr>\n",
       "      <th>34661</th>\n",
       "      <td>2018.0</td>\n",
       "      <td>1645.95</td>\n",
       "      <td>2229.58</td>\n",
       "      <td>1.30</td>\n",
       "    </tr>\n",
       "    <tr>\n",
       "      <th>19724</th>\n",
       "      <td>2016.0</td>\n",
       "      <td>108571.35</td>\n",
       "      <td>4797.75</td>\n",
       "      <td>1.04</td>\n",
       "    </tr>\n",
       "    <tr>\n",
       "      <th>31144</th>\n",
       "      <td>2016.0</td>\n",
       "      <td>24069.73</td>\n",
       "      <td>75141.70</td>\n",
       "      <td>1.39</td>\n",
       "    </tr>\n",
       "    <tr>\n",
       "      <th>31404</th>\n",
       "      <td>2017.0</td>\n",
       "      <td>340.94</td>\n",
       "      <td>2393.31</td>\n",
       "      <td>1.23</td>\n",
       "    </tr>\n",
       "  </tbody>\n",
       "</table>\n",
       "</div>"
      ],
      "text/plain": [
       "         year  Small Bags  Large Bags  AveragePrice\n",
       "18997  2015.0    59620.93        0.00          1.25\n",
       "34661  2018.0     1645.95     2229.58          1.30\n",
       "19724  2016.0   108571.35     4797.75          1.04\n",
       "31144  2016.0    24069.73    75141.70          1.39\n",
       "31404  2017.0      340.94     2393.31          1.23"
      ]
     },
     "execution_count": 101,
     "metadata": {},
     "output_type": "execute_result"
    }
   ],
   "source": [
    "df=df[[\"year\",\"Small Bags\",\"Large Bags\", \"AveragePrice\"]]\n",
    "\n",
    "df = df.sample(n=50,replace=True)\n",
    "#df=df.head(50)\n",
    "df.tail()"
   ]
  },
  {
   "cell_type": "code",
   "execution_count": 102,
   "id": "4fb08fbb",
   "metadata": {},
   "outputs": [],
   "source": [
    "y=df.iloc[:,1].values\n",
    "x=df.iloc[:,-1].values"
   ]
  },
  {
   "cell_type": "code",
   "execution_count": 103,
   "id": "b6513eb8",
   "metadata": {},
   "outputs": [],
   "source": [
    "x=x.reshape(len(x),1)\n",
    "y=y.reshape(len(y),1)"
   ]
  },
  {
   "cell_type": "code",
   "execution_count": 104,
   "id": "e339a064",
   "metadata": {},
   "outputs": [
    {
     "data": {
      "text/plain": [
       "DecisionTreeRegressor(random_state=0)"
      ]
     },
     "execution_count": 104,
     "metadata": {},
     "output_type": "execute_result"
    }
   ],
   "source": [
    "from sklearn.tree import DecisionTreeRegressor\n",
    "regressor=DecisionTreeRegressor(random_state=0)\n",
    "regressor.fit(x,y)"
   ]
  },
  {
   "cell_type": "code",
   "execution_count": 105,
   "id": "598906af",
   "metadata": {},
   "outputs": [
    {
     "data": {
      "text/plain": [
       "array([1686.43])"
      ]
     },
     "execution_count": 105,
     "metadata": {},
     "output_type": "execute_result"
    }
   ],
   "source": [
    "## Predicting a new result: What is the price for the \n",
    "regressor.predict([[8042.21]])"
   ]
  },
  {
   "cell_type": "code",
   "execution_count": 106,
   "id": "43f113a8",
   "metadata": {},
   "outputs": [
    {
     "data": {
      "text/plain": [
       "array([1686.43])"
      ]
     },
     "execution_count": 106,
     "metadata": {},
     "output_type": "execute_result"
    }
   ],
   "source": [
    "regressor.predict([[8000]])"
   ]
  },
  {
   "cell_type": "code",
   "execution_count": 107,
   "id": "757be89a",
   "metadata": {},
   "outputs": [
    {
     "data": {
      "text/plain": [
       "array([1686.43])"
      ]
     },
     "execution_count": 107,
     "metadata": {},
     "output_type": "execute_result"
    }
   ],
   "source": [
    "regressor.predict([[18000]])\n"
   ]
  },
  {
   "cell_type": "code",
   "execution_count": 108,
   "id": "3d83896d",
   "metadata": {},
   "outputs": [
    {
     "data": {
      "image/png": "[encoded data removed]",
      "text/plain": [
       "<Figure size 432x288 with 1 Axes>"
      ]
     },
     "metadata": {},
     "output_type": "display_data"
    }
   ],
   "source": [
    "X_grid = np.arange(min(x), max(x), 0.001)\n",
    "X_grid = X_grid.reshape((len(X_grid), 1))\n",
    "\n",
    "plt.scatter(x,y, color=\"red\")\n",
    "plt.plot(X_grid, regressor.predict(X_grid), color=\"blue\")\n",
    "\n",
    "plt.title(\"Decision Tree Regression for Avocado Prices\")\n",
    "plt.xlabel(\"Avocado Small Bags\")\n",
    "plt.ylabel(\"Price\")\n",
    "plt.show()"
   ]
  },
  {
   "cell_type": "code",
   "execution_count": null,
   "id": "01bde36f",
   "metadata": {},
   "outputs": [],
   "source": [
    "# observations - 1. Conventional avocados sell way more than organic avocados and cost less. \n",
    "# 2. When there is an overproduction of avocados they will have a negative impact on the market price of avocados. "
   ]
  }
 ],
 "metadata": {
  "kernelspec": {
   "display_name": "Python 3 (ipykernel)",
   "language": "python",
   "name": "python3"
  },
  "language_info": {
   "codemirror_mode": {
    "name": "ipython",
    "version": 3
   },
   "file_extension": ".py",
   "mimetype": "text/x-python",
   "name": "python",
   "nbconvert_exporter": "python",
   "pygments_lexer": "ipython3",
   "version": "3.9.12"
  }
 },
 "nbformat": 4,
 "nbformat_minor": 5
}
